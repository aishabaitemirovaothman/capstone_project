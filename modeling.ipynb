{
  "cells": [
    {
      "cell_type": "code",
      "execution_count": null,
      "metadata": {
        "colab": {
          "base_uri": "https://localhost:8080/"
        },
        "id": "Xbx0tqz8HuC5",
        "outputId": "cd27e38e-a9fb-4bc6-bc7b-54a49f8cde41"
      },
      "outputs": [
        {
          "output_type": "stream",
          "name": "stderr",
          "text": [
            "/usr/local/lib/python3.7/dist-packages/ipykernel_launcher.py:2: FutureWarning: Passing a negative integer is deprecated in version 1.0 and will not be supported in future version. Instead, use None to not limit the column width.\n",
            "  \n"
          ]
        }
      ],
      "source": [
        "import pandas as pd\n",
        "pd.set_option('display.max_colwidth', -1) \n",
        "import seaborn as sns\n",
        "from nltk.stem import WordNetLemmatizer\n",
        "from nltk.tokenize import WhitespaceTokenizer\n",
        "from nltk.corpus import wordnet\n",
        "import re\n",
        "from nltk.corpus import stopwords\n",
        "from nltk.stem.snowball import SnowballStemmer\n",
        "from collections import Counter\n",
        "from sklearn.model_selection import train_test_split\n",
        "from sklearn.decomposition import PCA\n",
        "from sklearn.decomposition import TruncatedSVD\n",
        "from sklearn.naive_bayes import GaussianNB\n",
        "import pickle\n",
        "from collections import Counter\n",
        "from itertools import chain\n",
        "import numpy as np\n",
        "from sklearn.feature_extraction.text import TfidfVectorizer\n",
        "from sklearn.metrics import plot_confusion_matrix\n",
        "from sklearn.linear_model import LogisticRegression\n",
        "from sklearn.model_selection import GridSearchCV\n",
        "from sklearn import svm\n",
        "from sklearn.tree import DecisionTreeClassifier\n",
        "from sklearn.ensemble import RandomForestClassifier\n",
        "from numpy import loadtxt\n",
        "from keras.models import Sequential\n",
        "from keras.layers import Dense\n",
        "from keras.layers import Flatten\n",
        "from sklearn.cluster import KMeans\n",
        "import matplotlib.pyplot as plt"
      ]
    },
    {
      "cell_type": "code",
      "execution_count": null,
      "metadata": {
        "id": "VS9R8bK5H1oA"
      },
      "outputs": [],
      "source": [
        "df = pd.read_csv('/content/new_file.csv')"
      ]
    },
    {
      "cell_type": "code",
      "execution_count": null,
      "metadata": {
        "colab": {
          "base_uri": "https://localhost:8080/"
        },
        "id": "NjrGsHeSVect",
        "outputId": "f298998e-bed4-4c68-db36-a646babd7f18"
      },
      "outputs": [
        {
          "output_type": "execute_result",
          "data": {
            "text/plain": [
              "480468"
            ]
          },
          "metadata": {},
          "execution_count": 6
        }
      ],
      "source": [
        "len(df)"
      ]
    },
    {
      "cell_type": "code",
      "execution_count": null,
      "metadata": {
        "colab": {
          "base_uri": "https://localhost:8080/",
          "height": 647
        },
        "id": "yzBqJAQPJZGF",
        "outputId": "2659bd20-7e00-44d8-cf70-0b3de1831558"
      },
      "outputs": [
        {
          "output_type": "execute_result",
          "data": {
            "text/html": [
              "\n",
              "  <div id=\"df-c55bc311-b527-46ac-973c-518ea0fe9a5b\">\n",
              "    <div class=\"colab-df-container\">\n",
              "      <div>\n",
              "<style scoped>\n",
              "    .dataframe tbody tr th:only-of-type {\n",
              "        vertical-align: middle;\n",
              "    }\n",
              "\n",
              "    .dataframe tbody tr th {\n",
              "        vertical-align: top;\n",
              "    }\n",
              "\n",
              "    .dataframe thead th {\n",
              "        text-align: right;\n",
              "    }\n",
              "</style>\n",
              "<table border=\"1\" class=\"dataframe\">\n",
              "  <thead>\n",
              "    <tr style=\"text-align: right;\">\n",
              "      <th></th>\n",
              "      <th>Unnamed: 0</th>\n",
              "      <th>target</th>\n",
              "      <th>timestamp</th>\n",
              "      <th>username</th>\n",
              "      <th>text</th>\n",
              "      <th>text_lemmatized</th>\n",
              "      <th>text_nostopwords</th>\n",
              "      <th>text_stemmed</th>\n",
              "      <th>low_removed</th>\n",
              "    </tr>\n",
              "  </thead>\n",
              "  <tbody>\n",
              "    <tr>\n",
              "      <th>0</th>\n",
              "      <td>0</td>\n",
              "      <td>0</td>\n",
              "      <td>Mon Apr 06 22:19:45 PDT 2009</td>\n",
              "      <td>_TheSpecialOne_</td>\n",
              "      <td>switchfoot httptwitpiccom2y1zl  awww thats a bummer  you shoulda got david carr of third day to do it d</td>\n",
              "      <td>['switchfoot', 'httptwitpiccom2y1zl', 'awww', 'thats', 'a', 'bummer', 'you', 'shoulda', 'get', 'david', 'carr', 'of', 'third', 'day', 'to', 'do', 'it', 'd']</td>\n",
              "      <td>switchfoot httptwitpiccom2y1zl awww thats bummer get david carr third day</td>\n",
              "      <td>switchfoot httptwitpiccom2y1zl awww thats bummer get david carr third day</td>\n",
              "      <td>awww thats bummer get david carr third day</td>\n",
              "    </tr>\n",
              "    <tr>\n",
              "      <th>1</th>\n",
              "      <td>7</td>\n",
              "      <td>0</td>\n",
              "      <td>Mon Apr 06 22:20:03 PDT 2009</td>\n",
              "      <td>coZZ</td>\n",
              "      <td>loltrish hey  long time no see yes rains a bit only a bit  lol  im fine thanks  hows you</td>\n",
              "      <td>['loltrish', 'hey', 'long', 'time', 'no', 'see', 'yes', 'rain', 'a', 'bit', 'only', 'a', 'bit', 'lol', 'im', 'fine', 'thanks', 'hows', 'you']</td>\n",
              "      <td>loltrish hey long time see yes rain bit bit lol fine thanks hows</td>\n",
              "      <td>loltrish hey long time see yes rain bit bit lol fine thanks how</td>\n",
              "      <td>hey long time see yes rain bit bit lol fine thanks how</td>\n",
              "    </tr>\n",
              "    <tr>\n",
              "      <th>2</th>\n",
              "      <td>8</td>\n",
              "      <td>0</td>\n",
              "      <td>Mon Apr 06 22:20:05 PDT 2009</td>\n",
              "      <td>2Hood4Hollywood</td>\n",
              "      <td>tatiana_k nope they didnt have it</td>\n",
              "      <td>['tatiana_k', 'nope', 'they', 'didnt', 'have', 'it']</td>\n",
              "      <td>tatiana_k nope didnt</td>\n",
              "      <td>tatiana_k nope didnt</td>\n",
              "      <td>nope didnt</td>\n",
              "    </tr>\n",
              "    <tr>\n",
              "      <th>3</th>\n",
              "      <td>9</td>\n",
              "      <td>0</td>\n",
              "      <td>Mon Apr 06 22:20:09 PDT 2009</td>\n",
              "      <td>mimismo</td>\n",
              "      <td>twittera que me muera</td>\n",
              "      <td>['twittera', 'que', 'me', 'muera']</td>\n",
              "      <td>twittera que muera</td>\n",
              "      <td>twittera que muera</td>\n",
              "      <td>que</td>\n",
              "    </tr>\n",
              "    <tr>\n",
              "      <th>4</th>\n",
              "      <td>14</td>\n",
              "      <td>0</td>\n",
              "      <td>Mon Apr 06 22:20:20 PDT 2009</td>\n",
              "      <td>bayofwolves</td>\n",
              "      <td>smarrison i wouldve been the first but i didnt have a gun    not really though zac snyders just a doucheclown</td>\n",
              "      <td>['smarrison', 'i', 'wouldve', 'be', 'the', 'first', 'but', 'i', 'didnt', 'have', 'a', 'gun', 'not', 'really', 'though', 'zac', 'snyders', 'just', 'a', 'doucheclown']</td>\n",
              "      <td>smarrison wouldve first didnt gun really though zac snyders doucheclown</td>\n",
              "      <td>smarrison wouldve first didnt gun really though zac snyders doucheclown</td>\n",
              "      <td>wouldve first didnt gun really though zac</td>\n",
              "    </tr>\n",
              "  </tbody>\n",
              "</table>\n",
              "</div>\n",
              "      <button class=\"colab-df-convert\" onclick=\"convertToInteractive('df-c55bc311-b527-46ac-973c-518ea0fe9a5b')\"\n",
              "              title=\"Convert this dataframe to an interactive table.\"\n",
              "              style=\"display:none;\">\n",
              "        \n",
              "  <svg xmlns=\"http://www.w3.org/2000/svg\" height=\"24px\"viewBox=\"0 0 24 24\"\n",
              "       width=\"24px\">\n",
              "    <path d=\"M0 0h24v24H0V0z\" fill=\"none\"/>\n",
              "    <path d=\"M18.56 5.44l.94 2.06.94-2.06 2.06-.94-2.06-.94-.94-2.06-.94 2.06-2.06.94zm-11 1L8.5 8.5l.94-2.06 2.06-.94-2.06-.94L8.5 2.5l-.94 2.06-2.06.94zm10 10l.94 2.06.94-2.06 2.06-.94-2.06-.94-.94-2.06-.94 2.06-2.06.94z\"/><path d=\"M17.41 7.96l-1.37-1.37c-.4-.4-.92-.59-1.43-.59-.52 0-1.04.2-1.43.59L10.3 9.45l-7.72 7.72c-.78.78-.78 2.05 0 2.83L4 21.41c.39.39.9.59 1.41.59.51 0 1.02-.2 1.41-.59l7.78-7.78 2.81-2.81c.8-.78.8-2.07 0-2.86zM5.41 20L4 18.59l7.72-7.72 1.47 1.35L5.41 20z\"/>\n",
              "  </svg>\n",
              "      </button>\n",
              "      \n",
              "  <style>\n",
              "    .colab-df-container {\n",
              "      display:flex;\n",
              "      flex-wrap:wrap;\n",
              "      gap: 12px;\n",
              "    }\n",
              "\n",
              "    .colab-df-convert {\n",
              "      background-color: #E8F0FE;\n",
              "      border: none;\n",
              "      border-radius: 50%;\n",
              "      cursor: pointer;\n",
              "      display: none;\n",
              "      fill: #1967D2;\n",
              "      height: 32px;\n",
              "      padding: 0 0 0 0;\n",
              "      width: 32px;\n",
              "    }\n",
              "\n",
              "    .colab-df-convert:hover {\n",
              "      background-color: #E2EBFA;\n",
              "      box-shadow: 0px 1px 2px rgba(60, 64, 67, 0.3), 0px 1px 3px 1px rgba(60, 64, 67, 0.15);\n",
              "      fill: #174EA6;\n",
              "    }\n",
              "\n",
              "    [theme=dark] .colab-df-convert {\n",
              "      background-color: #3B4455;\n",
              "      fill: #D2E3FC;\n",
              "    }\n",
              "\n",
              "    [theme=dark] .colab-df-convert:hover {\n",
              "      background-color: #434B5C;\n",
              "      box-shadow: 0px 1px 3px 1px rgba(0, 0, 0, 0.15);\n",
              "      filter: drop-shadow(0px 1px 2px rgba(0, 0, 0, 0.3));\n",
              "      fill: #FFFFFF;\n",
              "    }\n",
              "  </style>\n",
              "\n",
              "      <script>\n",
              "        const buttonEl =\n",
              "          document.querySelector('#df-c55bc311-b527-46ac-973c-518ea0fe9a5b button.colab-df-convert');\n",
              "        buttonEl.style.display =\n",
              "          google.colab.kernel.accessAllowed ? 'block' : 'none';\n",
              "\n",
              "        async function convertToInteractive(key) {\n",
              "          const element = document.querySelector('#df-c55bc311-b527-46ac-973c-518ea0fe9a5b');\n",
              "          const dataTable =\n",
              "            await google.colab.kernel.invokeFunction('convertToInteractive',\n",
              "                                                     [key], {});\n",
              "          if (!dataTable) return;\n",
              "\n",
              "          const docLinkHtml = 'Like what you see? Visit the ' +\n",
              "            '<a target=\"_blank\" href=https://colab.research.google.com/notebooks/data_table.ipynb>data table notebook</a>'\n",
              "            + ' to learn more about interactive tables.';\n",
              "          element.innerHTML = '';\n",
              "          dataTable['output_type'] = 'display_data';\n",
              "          await google.colab.output.renderOutput(dataTable, element);\n",
              "          const docLink = document.createElement('div');\n",
              "          docLink.innerHTML = docLinkHtml;\n",
              "          element.appendChild(docLink);\n",
              "        }\n",
              "      </script>\n",
              "    </div>\n",
              "  </div>\n",
              "  "
            ],
            "text/plain": [
              "   Unnamed: 0  ...                                             low_removed\n",
              "0  0           ...  awww thats bummer get david carr third day            \n",
              "1  7           ...  hey long time see yes rain bit bit lol fine thanks how\n",
              "2  8           ...  nope didnt                                            \n",
              "3  9           ...  que                                                   \n",
              "4  14          ...  wouldve first didnt gun really though zac             \n",
              "\n",
              "[5 rows x 9 columns]"
            ]
          },
          "metadata": {},
          "execution_count": 7
        }
      ],
      "source": [
        "df.head(5)"
      ]
    },
    {
      "cell_type": "code",
      "execution_count": null,
      "metadata": {
        "id": "glP5r4PkL_W9"
      },
      "outputs": [],
      "source": [
        "df.drop(columns= 'Unnamed: 0', axis=1, inplace=True)"
      ]
    },
    {
      "cell_type": "code",
      "execution_count": null,
      "metadata": {
        "colab": {
          "base_uri": "https://localhost:8080/"
        },
        "id": "jgjJfGSuMcnk",
        "outputId": "9d151f2f-38d5-4cc0-aa37-0cd9610bffd5"
      },
      "outputs": [
        {
          "output_type": "execute_result",
          "data": {
            "text/plain": [
              "Index(['target', 'timestamp', 'username', 'text', 'text_lemmatized',\n",
              "       'text_nostopwords', 'text_stemmed', 'low_removed'],\n",
              "      dtype='object')"
            ]
          },
          "metadata": {},
          "execution_count": 9
        }
      ],
      "source": [
        "df.columns"
      ]
    },
    {
      "cell_type": "code",
      "execution_count": null,
      "metadata": {
        "id": "dxOUDLyYjBx6"
      },
      "outputs": [],
      "source": [
        "df = df.sample(n = 50000)"
      ]
    },
    {
      "cell_type": "markdown",
      "metadata": {
        "id": "vRBcMYQMgefw"
      },
      "source": [
        "## Train Test Split and Vectorization"
      ]
    },
    {
      "cell_type": "code",
      "execution_count": null,
      "metadata": {
        "id": "jios2tckMoq9"
      },
      "outputs": [],
      "source": [
        "X = df['low_removed']\n",
        "y = df['target']"
      ]
    },
    {
      "cell_type": "code",
      "execution_count": null,
      "metadata": {
        "colab": {
          "base_uri": "https://localhost:8080/"
        },
        "id": "Xg8kwCKyMLk6",
        "outputId": "0e45735b-0dc6-4731-a5b9-aeded3abf1e1"
      },
      "outputs": [
        {
          "output_type": "execute_result",
          "data": {
            "text/plain": [
              "30349     bad would go time get                                        \n",
              "417088    walk ya kitchen cook nah u want ba                           \n",
              "47324     thats try avoid                                              \n",
              "426828    guess get comment honor societi                              \n",
              "367787    jonasbrothers woah big crowd hope come philippine soon       \n",
              "                                   ...                                 \n",
              "238310    id suggest male remember dont like draw form â               \n",
              "285413    lose yesterday least peaceful gonna go see mom today cheer   \n",
              "249784    worried bad root gonna look grows bet hair look cute wanna se\n",
              "152671    wear june oh denmark                                         \n",
              "351175    sleep puppy puppy cuddle next                                \n",
              "Name: low_removed, Length: 50000, dtype: object"
            ]
          },
          "metadata": {},
          "execution_count": 12
        }
      ],
      "source": [
        "X"
      ]
    },
    {
      "cell_type": "code",
      "execution_count": null,
      "metadata": {
        "id": "OLlA6NzRNFNL"
      },
      "outputs": [],
      "source": [
        "vectorizer = TfidfVectorizer(max_df = 20, min_df = 15)"
      ]
    },
    {
      "cell_type": "code",
      "execution_count": null,
      "metadata": {
        "id": "aR7YbTr_Ngsb"
      },
      "outputs": [],
      "source": [
        "X_vect = vectorizer.fit_transform(X.values.astype(str))"
      ]
    },
    {
      "cell_type": "code",
      "execution_count": null,
      "metadata": {
        "id": "DqwsoA5RNpNv"
      },
      "outputs": [],
      "source": [
        "X_train, X_test, y_train, y_test = train_test_split(X_vect,y,test_size=0.33, random_state=42) "
      ]
    },
    {
      "cell_type": "code",
      "execution_count": null,
      "metadata": {
        "colab": {
          "base_uri": "https://localhost:8080/"
        },
        "id": "X6uypBSWNr-G",
        "outputId": "3c80f05b-09c1-4dba-d12e-15e8efe3f793"
      },
      "outputs": [
        {
          "output_type": "execute_result",
          "data": {
            "text/plain": [
              "(33500, 619)"
            ]
          },
          "metadata": {},
          "execution_count": 16
        }
      ],
      "source": [
        "X_train.shape"
      ]
    },
    {
      "cell_type": "markdown",
      "metadata": {
        "id": "u_i96_NeguLa"
      },
      "source": [
        "## Dimensionality Reduction\n"
      ]
    },
    {
      "cell_type": "code",
      "execution_count": null,
      "metadata": {
        "colab": {
          "base_uri": "https://localhost:8080/"
        },
        "id": "6OHGS4SVNx2W",
        "outputId": "22147b47-1eac-4004-d8ca-a7c5f74382b9"
      },
      "outputs": [
        {
          "output_type": "execute_result",
          "data": {
            "text/plain": [
              "TruncatedSVD(n_components=300, random_state=42)"
            ]
          },
          "metadata": {},
          "execution_count": 17
        }
      ],
      "source": [
        "svd = TruncatedSVD(n_components=300, random_state=42)\n",
        "svd.fit(X_train)"
      ]
    },
    {
      "cell_type": "code",
      "execution_count": null,
      "metadata": {
        "id": "h0TDN_rrOG4X"
      },
      "outputs": [],
      "source": [
        "X_train_svd = svd.transform(X_train)"
      ]
    },
    {
      "cell_type": "code",
      "execution_count": null,
      "metadata": {
        "id": "yJ527nqaOHrL"
      },
      "outputs": [],
      "source": [
        "X_test_svd = svd.transform(X_test)"
      ]
    },
    {
      "cell_type": "code",
      "execution_count": null,
      "metadata": {
        "id": "RTT35RcjOKj9"
      },
      "outputs": [],
      "source": [
        "#print(svd.explained_variance_ratio_)"
      ]
    },
    {
      "cell_type": "code",
      "execution_count": null,
      "metadata": {
        "colab": {
          "base_uri": "https://localhost:8080/"
        },
        "id": "wcNxoi6WOM2-",
        "outputId": "9b5d0659-2534-428d-b62f-71752ff6b8c3"
      },
      "outputs": [
        {
          "output_type": "execute_result",
          "data": {
            "text/plain": [
              "0.5643787425717725"
            ]
          },
          "metadata": {},
          "execution_count": 20
        }
      ],
      "source": [
        "sum(svd.explained_variance_ratio_)"
      ]
    },
    {
      "cell_type": "code",
      "execution_count": null,
      "metadata": {
        "colab": {
          "base_uri": "https://localhost:8080/"
        },
        "id": "CmxCqnzOOPL8",
        "outputId": "1b19b03e-2733-4b25-f69c-d6eacc63b052"
      },
      "outputs": [
        {
          "output_type": "execute_result",
          "data": {
            "text/plain": [
              "numpy.ndarray"
            ]
          },
          "metadata": {},
          "execution_count": 21
        }
      ],
      "source": [
        "type(X_train_svd)"
      ]
    },
    {
      "cell_type": "code",
      "execution_count": null,
      "metadata": {
        "colab": {
          "base_uri": "https://localhost:8080/"
        },
        "id": "RvWMfrO-ORLf",
        "outputId": "27ffa9e6-3180-44cb-ec81-b8e9894ef63e"
      },
      "outputs": [
        {
          "output_type": "execute_result",
          "data": {
            "text/plain": [
              "(33500, 300)"
            ]
          },
          "metadata": {},
          "execution_count": 22
        }
      ],
      "source": [
        "X_train_svd.shape"
      ]
    },
    {
      "cell_type": "code",
      "execution_count": null,
      "metadata": {
        "id": "4MT07twEOUGp"
      },
      "outputs": [],
      "source": [
        "X_train_svd = X_train_svd.tolist()"
      ]
    },
    {
      "cell_type": "code",
      "execution_count": null,
      "metadata": {
        "colab": {
          "base_uri": "https://localhost:8080/"
        },
        "id": "E6Kk26m-OW_J",
        "outputId": "b2be1d0e-da0a-40e9-c265-67d842053b90"
      },
      "outputs": [
        {
          "output_type": "execute_result",
          "data": {
            "text/plain": [
              "list"
            ]
          },
          "metadata": {},
          "execution_count": 24
        }
      ],
      "source": [
        "type(X_train_svd)"
      ]
    },
    {
      "cell_type": "code",
      "execution_count": null,
      "metadata": {
        "id": "O92LcNe7OZCY"
      },
      "outputs": [],
      "source": [
        "X_train_svd = np.asarray(X_train_svd)"
      ]
    },
    {
      "cell_type": "markdown",
      "metadata": {
        "id": "zQLlknf0hIYa"
      },
      "source": [
        "## Baseline Model"
      ]
    },
    {
      "cell_type": "code",
      "execution_count": null,
      "metadata": {
        "colab": {
          "base_uri": "https://localhost:8080/"
        },
        "id": "EFet8hc-hKz7",
        "outputId": "85f6b31b-6b14-4298-b513-b73af68753df"
      },
      "outputs": [
        {
          "output_type": "execute_result",
          "data": {
            "text/plain": [
              "GaussianNB()"
            ]
          },
          "metadata": {},
          "execution_count": 26
        }
      ],
      "source": [
        "gnb = GaussianNB()\n",
        "gnb.fit(X_train_svd, y_train)"
      ]
    },
    {
      "cell_type": "code",
      "execution_count": null,
      "metadata": {
        "colab": {
          "base_uri": "https://localhost:8080/"
        },
        "id": "gBCNVA_rhPH9",
        "outputId": "44c270e4-a3b9-4a99-c150-bfec3cc71595"
      },
      "outputs": [
        {
          "output_type": "execute_result",
          "data": {
            "text/plain": [
              "array([0, 1])"
            ]
          },
          "metadata": {},
          "execution_count": 27
        }
      ],
      "source": [
        "gnb.classes_"
      ]
    },
    {
      "cell_type": "code",
      "execution_count": null,
      "metadata": {
        "colab": {
          "base_uri": "https://localhost:8080/"
        },
        "id": "tbC1hg2EhShI",
        "outputId": "790f6368-6c39-44ed-86a8-2a7e6f748453"
      },
      "outputs": [
        {
          "output_type": "execute_result",
          "data": {
            "text/plain": [
              "array([[0.35451873, 0.64548127],\n",
              "       [0.35451873, 0.64548127],\n",
              "       [0.35451873, 0.64548127],\n",
              "       ...,\n",
              "       [0.35451873, 0.64548127],\n",
              "       [0.35451873, 0.64548127],\n",
              "       [0.35451873, 0.64548127]])"
            ]
          },
          "metadata": {},
          "execution_count": 28
        }
      ],
      "source": [
        "gnb.predict_proba(X_train_svd)"
      ]
    },
    {
      "cell_type": "code",
      "execution_count": null,
      "metadata": {
        "colab": {
          "base_uri": "https://localhost:8080/"
        },
        "id": "HbdSPuzhhUep",
        "outputId": "dc156a19-34af-49aa-cb5b-a44227df5c49"
      },
      "outputs": [
        {
          "output_type": "execute_result",
          "data": {
            "text/plain": [
              "array([[3.54518729e-001, 6.45481271e-001],\n",
              "       [3.54518729e-001, 6.45481271e-001],\n",
              "       [3.54518729e-001, 6.45481271e-001],\n",
              "       ...,\n",
              "       [3.54518729e-001, 6.45481271e-001],\n",
              "       [3.54518729e-001, 6.45481271e-001],\n",
              "       [1.00000000e+000, 1.87166859e-219]])"
            ]
          },
          "metadata": {},
          "execution_count": 29
        }
      ],
      "source": [
        "gnb.predict_proba(X_test_svd)"
      ]
    },
    {
      "cell_type": "code",
      "execution_count": null,
      "metadata": {
        "colab": {
          "base_uri": "https://localhost:8080/"
        },
        "id": "zSilRRp8hWZE",
        "outputId": "5442557f-2d62-4b03-af43-1f4f32607244"
      },
      "outputs": [
        {
          "output_type": "execute_result",
          "data": {
            "text/plain": [
              "array([1, 1, 1, ..., 1, 1, 0])"
            ]
          },
          "metadata": {},
          "execution_count": 30
        }
      ],
      "source": [
        "gnb.predict(X_test_svd)"
      ]
    },
    {
      "cell_type": "code",
      "execution_count": null,
      "metadata": {
        "colab": {
          "base_uri": "https://localhost:8080/",
          "height": 335
        },
        "id": "SBXRcqrghZMu",
        "outputId": "cfe731f1-8086-4175-91b1-44f158d80093"
      },
      "outputs": [
        {
          "output_type": "stream",
          "name": "stderr",
          "text": [
            "/usr/local/lib/python3.7/dist-packages/sklearn/utils/deprecation.py:87: FutureWarning: Function plot_confusion_matrix is deprecated; Function `plot_confusion_matrix` is deprecated in 1.0 and will be removed in 1.2. Use one of the class methods: ConfusionMatrixDisplay.from_predictions or ConfusionMatrixDisplay.from_estimator.\n",
            "  warnings.warn(msg, category=FutureWarning)\n"
          ]
        },
        {
          "output_type": "display_data",
          "data": {
            "image/png": "[encoded data removed]",
            "text/plain": [
              "<Figure size 432x288 with 2 Axes>"
            ]
          },
          "metadata": {
            "needs_background": "light"
          }
        }
      ],
      "source": [
        "plot_confusion_matrix(gnb, X_test_svd, y_test);"
      ]
    },
    {
      "cell_type": "code",
      "execution_count": null,
      "metadata": {
        "colab": {
          "base_uri": "https://localhost:8080/"
        },
        "id": "Bu50I7BihcY7",
        "outputId": "0389b018-8e83-46ce-84c3-0a6e88ff8fdf"
      },
      "outputs": [
        {
          "output_type": "execute_result",
          "data": {
            "text/plain": [
              "0.40763636363636363"
            ]
          },
          "metadata": {},
          "execution_count": 32
        }
      ],
      "source": [
        "gnb.score(X_test_svd, y_test)"
      ]
    },
    {
      "cell_type": "markdown",
      "metadata": {
        "id": "KwvzqD8vhjJr"
      },
      "source": [
        "## Logistic Regression"
      ]
    },
    {
      "cell_type": "code",
      "execution_count": null,
      "metadata": {
        "colab": {
          "base_uri": "https://localhost:8080/",
          "height": 350
        },
        "id": "WuFSxV-fhlGb",
        "outputId": "80fe7911-f42f-4b15-c7d4-6aac3328d0c1"
      },
      "outputs": [
        {
          "output_type": "stream",
          "name": "stdout",
          "text": [
            "0.6265454545454545\n"
          ]
        },
        {
          "output_type": "stream",
          "name": "stderr",
          "text": [
            "/usr/local/lib/python3.7/dist-packages/sklearn/utils/deprecation.py:87: FutureWarning: Function plot_confusion_matrix is deprecated; Function `plot_confusion_matrix` is deprecated in 1.0 and will be removed in 1.2. Use one of the class methods: ConfusionMatrixDisplay.from_predictions or ConfusionMatrixDisplay.from_estimator.\n",
            "  warnings.warn(msg, category=FutureWarning)\n"
          ]
        },
        {
          "output_type": "display_data",
          "data": {
            "image/png": "[encoded data removed]",
            "text/plain": [
              "<Figure size 432x288 with 2 Axes>"
            ]
          },
          "metadata": {
            "needs_background": "light"
          }
        }
      ],
      "source": [
        "lrg = LogisticRegression()\n",
        "lrg.fit(X_train_svd, y_train)\n",
        "print(lrg.score(X_test_svd, y_test))\n",
        "plot_confusion_matrix(lrg, X_test_svd, y_test);"
      ]
    },
    {
      "cell_type": "markdown",
      "metadata": {
        "id": "-UjfU9Y_hwxP"
      },
      "source": [
        "## Decision Tree Classifier"
      ]
    },
    {
      "cell_type": "code",
      "execution_count": null,
      "metadata": {
        "colab": {
          "base_uri": "https://localhost:8080/"
        },
        "id": "Y2xWMTN8h17U",
        "outputId": "b22c9bc5-0a3c-4e24-80ab-7a58eba35862"
      },
      "outputs": [
        {
          "output_type": "execute_result",
          "data": {
            "text/plain": [
              "0.6253333333333333"
            ]
          },
          "metadata": {},
          "execution_count": 34
        }
      ],
      "source": [
        "dec_tree = DecisionTreeClassifier(random_state = 42)\n",
        "dec_tree.fit(X_train_svd, y_train)\n",
        "dec_tree.score(X_test_svd, y_test)"
      ]
    },
    {
      "cell_type": "code",
      "execution_count": null,
      "metadata": {
        "colab": {
          "base_uri": "https://localhost:8080/",
          "height": 333
        },
        "id": "jZy1hRuDh6Nr",
        "outputId": "35d719bc-5cc2-4e9d-9fac-99d8107b30de"
      },
      "outputs": [
        {
          "output_type": "stream",
          "name": "stderr",
          "text": [
            "/usr/local/lib/python3.7/dist-packages/sklearn/utils/deprecation.py:87: FutureWarning: Function plot_confusion_matrix is deprecated; Function `plot_confusion_matrix` is deprecated in 1.0 and will be removed in 1.2. Use one of the class methods: ConfusionMatrixDisplay.from_predictions or ConfusionMatrixDisplay.from_estimator.\n",
            "  warnings.warn(msg, category=FutureWarning)\n"
          ]
        },
        {
          "output_type": "display_data",
          "data": {
            "image/png": "[encoded data removed]",
            "text/plain": [
              "<Figure size 432x288 with 2 Axes>"
            ]
          },
          "metadata": {
            "needs_background": "light"
          }
        }
      ],
      "source": [
        "plot_confusion_matrix(dec_tree, X_test_svd, y_test);"
      ]
    },
    {
      "cell_type": "code",
      "source": [
        "recall_score(y_true, y_pred, average='macro')\n"
      ],
      "metadata": {
        "id": "L1hlFJAvSDdp"
      },
      "execution_count": null,
      "outputs": []
    },
    {
      "cell_type": "markdown",
      "metadata": {
        "id": "H44cU8-Vh_n-"
      },
      "source": [
        "## Random Forest Classifier"
      ]
    },
    {
      "cell_type": "code",
      "execution_count": null,
      "metadata": {
        "id": "wFeVHQNbiCM0"
      },
      "outputs": [],
      "source": [
        "random_forest = RandomForestClassifier(random_state = 42)"
      ]
    },
    {
      "cell_type": "code",
      "execution_count": null,
      "metadata": {
        "colab": {
          "base_uri": "https://localhost:8080/"
        },
        "id": "7nxjlnuHiEfW",
        "outputId": "48e8f55f-d74b-4b36-e27b-67081b61ee3b"
      },
      "outputs": [
        {
          "data": {
            "text/plain": [
              "RandomForestClassifier(random_state=42)"
            ]
          },
          "execution_count": 116,
          "metadata": {},
          "output_type": "execute_result"
        }
      ],
      "source": [
        "random_forest.fit(X_train_svd,y_train)"
      ]
    },
    {
      "cell_type": "code",
      "execution_count": null,
      "metadata": {
        "colab": {
          "base_uri": "https://localhost:8080/"
        },
        "id": "rqG97I78iGWs",
        "outputId": "9eb6ea05-e61a-46d9-dddf-4a4957685da5"
      },
      "outputs": [
        {
          "data": {
            "text/plain": [
              "0.5142424242424243"
            ]
          },
          "execution_count": 117,
          "metadata": {},
          "output_type": "execute_result"
        }
      ],
      "source": [
        "random_forest.score(X_test_svd, y_test)"
      ]
    },
    {
      "cell_type": "code",
      "execution_count": null,
      "metadata": {
        "colab": {
          "base_uri": "https://localhost:8080/",
          "height": 333
        },
        "id": "HIOH5du8iIRJ",
        "outputId": "cbf37d93-f1d9-44d7-f214-ca07b72c9a05"
      },
      "outputs": [
        {
          "name": "stderr",
          "output_type": "stream",
          "text": [
            "/usr/local/lib/python3.7/dist-packages/sklearn/utils/deprecation.py:87: FutureWarning: Function plot_confusion_matrix is deprecated; Function `plot_confusion_matrix` is deprecated in 1.0 and will be removed in 1.2. Use one of the class methods: ConfusionMatrixDisplay.from_predictions or ConfusionMatrixDisplay.from_estimator.\n",
            "  warnings.warn(msg, category=FutureWarning)\n"
          ]
        },
        {
          "data": {
            "image/png": "[encoded data removed]",
            "text/plain": [
              "<Figure size 432x288 with 2 Axes>"
            ]
          },
          "metadata": {},
          "output_type": "display_data"
        }
      ],
      "source": [
        "plot_confusion_matrix(random_forest, X_test_svd, y_test);"
      ]
    },
    {
      "cell_type": "code",
      "source": [
        ""
      ],
      "metadata": {
        "id": "I4K0hE4lUORn"
      },
      "execution_count": null,
      "outputs": []
    },
    {
      "cell_type": "markdown",
      "metadata": {
        "id": "koTntlEDiNdU"
      },
      "source": [
        "## Grid Search on Logistic Regression"
      ]
    },
    {
      "cell_type": "code",
      "execution_count": null,
      "metadata": {
        "id": "ly86EVMDiRmV"
      },
      "outputs": [],
      "source": [
        "grid={\"C\": [0.001, 0.01, 0.1, 1, 10, 100, 1000], \"penalty\":[\"l2\"]}"
      ]
    },
    {
      "cell_type": "code",
      "execution_count": null,
      "metadata": {
        "id": "eDCmcamiiT8-"
      },
      "outputs": [],
      "source": [
        "logreg=LogisticRegression()"
      ]
    },
    {
      "cell_type": "code",
      "execution_count": null,
      "metadata": {
        "id": "jLLkJ0SSiVun"
      },
      "outputs": [],
      "source": [
        "logreg_cv=GridSearchCV(estimator = logreg,param_grid = grid,cv=10, verbose = 1)"
      ]
    },
    {
      "cell_type": "code",
      "execution_count": null,
      "metadata": {
        "colab": {
          "base_uri": "https://localhost:8080/"
        },
        "id": "cnaI-Zi_iXgt",
        "outputId": "6401c5ed-1365-4489-e6c3-c0bf11fbc365"
      },
      "outputs": [
        {
          "name": "stdout",
          "output_type": "stream",
          "text": [
            "Fitting 10 folds for each of 7 candidates, totalling 70 fits\n"
          ]
        },
        {
          "name": "stderr",
          "output_type": "stream",
          "text": [
            "/usr/local/lib/python3.7/dist-packages/sklearn/linear_model/_logistic.py:818: ConvergenceWarning: lbfgs failed to converge (status=1):\n",
            "STOP: TOTAL NO. of ITERATIONS REACHED LIMIT.\n",
            "\n",
            "Increase the number of iterations (max_iter) or scale the data as shown in:\n",
            "    https://scikit-learn.org/stable/modules/preprocessing.html\n",
            "Please also refer to the documentation for alternative solver options:\n",
            "    https://scikit-learn.org/stable/modules/linear_model.html#logistic-regression\n",
            "  extra_warning_msg=_LOGISTIC_SOLVER_CONVERGENCE_MSG,\n",
            "/usr/local/lib/python3.7/dist-packages/sklearn/linear_model/_logistic.py:818: ConvergenceWarning: lbfgs failed to converge (status=1):\n",
            "STOP: TOTAL NO. of ITERATIONS REACHED LIMIT.\n",
            "\n",
            "Increase the number of iterations (max_iter) or scale the data as shown in:\n",
            "    https://scikit-learn.org/stable/modules/preprocessing.html\n",
            "Please also refer to the documentation for alternative solver options:\n",
            "    https://scikit-learn.org/stable/modules/linear_model.html#logistic-regression\n",
            "  extra_warning_msg=_LOGISTIC_SOLVER_CONVERGENCE_MSG,\n"
          ]
        },
        {
          "data": {
            "text/plain": [
              "GridSearchCV(cv=10, estimator=LogisticRegression(),\n",
              "             param_grid={'C': [0.001, 0.01, 0.1, 1, 10, 100, 1000],\n",
              "                         'penalty': ['l2']},\n",
              "             verbose=1)"
            ]
          },
          "execution_count": 122,
          "metadata": {},
          "output_type": "execute_result"
        }
      ],
      "source": [
        "logreg_cv.fit(X_train_svd,y_train)"
      ]
    },
    {
      "cell_type": "code",
      "execution_count": null,
      "metadata": {
        "colab": {
          "base_uri": "https://localhost:8080/"
        },
        "id": "CDQQn6VGiZkw",
        "outputId": "cf582706-69fe-4a3d-eb83-b7d6df9fd5e6"
      },
      "outputs": [
        {
          "name": "stdout",
          "output_type": "stream",
          "text": [
            "tuned hyperparameters :(best parameters)  {'C': 1000, 'penalty': 'l2'}\n",
            "accuracy : 0.5176417910447761\n"
          ]
        }
      ],
      "source": [
        "print(\"tuned hyperparameters :(best parameters) \",logreg_cv.best_params_)\n",
        "print(\"accuracy :\",logreg_cv.best_score_)"
      ]
    },
    {
      "cell_type": "markdown",
      "metadata": {
        "id": "dvK3B8ceO0G0"
      },
      "source": [
        "## Grid Search on Decision Tree\n"
      ]
    },
    {
      "cell_type": "code",
      "execution_count": null,
      "metadata": {
        "colab": {
          "base_uri": "https://localhost:8080/"
        },
        "id": "Z08p299Ocemd",
        "outputId": "1bd8ee1b-a988-47d8-ceca-90bab46776e4"
      },
      "outputs": [
        {
          "output_type": "stream",
          "name": "stdout",
          "text": [
            "CPU times: user 3 µs, sys: 0 ns, total: 3 µs\n",
            "Wall time: 5.25 µs\n"
          ]
        },
        {
          "output_type": "execute_result",
          "data": {
            "text/plain": [
              "0.6253333333333333"
            ]
          },
          "metadata": {},
          "execution_count": 38
        }
      ],
      "source": [
        "%time\n",
        "dec_tree = DecisionTreeClassifier(random_state = 42)\n",
        "dec_tree.fit(X_train_svd, y_train)\n",
        "dec_tree.score(X_test_svd, y_test)"
      ]
    },
    {
      "cell_type": "code",
      "execution_count": null,
      "metadata": {
        "id": "GeqShVqMOi6u"
      },
      "outputs": [],
      "source": [
        "grid = {\n",
        "    'max_depth': [2,3,5,6,7,8],\n",
        "    'min_samples_leaf': [2,4,6,8,10]\n",
        "}"
      ]
    },
    {
      "cell_type": "code",
      "execution_count": null,
      "metadata": {
        "id": "thknfs4hchXc"
      },
      "outputs": [],
      "source": [
        "dec_tree_cv = GridSearchCV(estimator = dec_tree, \n",
        "                            param_grid = grid, \n",
        "                            cv = 4, verbose = 1, scoring = \"f1\")"
      ]
    },
    {
      "cell_type": "code",
      "execution_count": null,
      "metadata": {
        "colab": {
          "base_uri": "https://localhost:8080/"
        },
        "id": "OwmBiuKsd41n",
        "outputId": "727e0c57-b471-4787-cbce-4f8698b0445d"
      },
      "outputs": [
        {
          "output_type": "stream",
          "name": "stdout",
          "text": [
            "Fitting 4 folds for each of 30 candidates, totalling 120 fits\n"
          ]
        },
        {
          "output_type": "execute_result",
          "data": {
            "text/plain": [
              "GridSearchCV(cv=4, estimator=DecisionTreeClassifier(random_state=42),\n",
              "             param_grid={'max_depth': [2, 3, 5, 6, 7, 8],\n",
              "                         'min_samples_leaf': [2, 4, 6, 8, 10]},\n",
              "             scoring='f1', verbose=1)"
            ]
          },
          "metadata": {},
          "execution_count": 41
        }
      ],
      "source": [
        "dec_tree_cv.fit(X_train_svd,y_train)"
      ]
    },
    {
      "cell_type": "code",
      "execution_count": null,
      "metadata": {
        "colab": {
          "base_uri": "https://localhost:8080/"
        },
        "id": "2C6QqhqBd5sN",
        "outputId": "cc68794f-2215-4328-eaa7-3d7c9fce2fa8"
      },
      "outputs": [
        {
          "name": "stdout",
          "output_type": "stream",
          "text": [
            "tuned hyperparameters :(best parameters)  {'max_depth': 2, 'min_samples_leaf': 2}\n",
            "accuracy : 0.6675911394941044\n"
          ]
        }
      ],
      "source": [
        "print(\"tuned hyperparameters :(best parameters) \",dec_tree_cv.best_params_)\n",
        "print(\"accuracy :\",dec_tree_cv.best_score_)"
      ]
    },
    {
      "cell_type": "code",
      "execution_count": null,
      "metadata": {
        "colab": {
          "base_uri": "https://localhost:8080/"
        },
        "id": "9cINbeZ2iuMM",
        "outputId": "620d10ee-2916-47ba-82d9-0f7036b4cfff"
      },
      "outputs": [
        {
          "data": {
            "text/plain": [
              "sklearn.model_selection._search.GridSearchCV"
            ]
          },
          "execution_count": 129,
          "metadata": {},
          "output_type": "execute_result"
        }
      ],
      "source": [
        "type(dec_tree_cv)"
      ]
    },
    {
      "cell_type": "markdown",
      "metadata": {
        "id": "EfBU3D5N_50k"
      },
      "source": [
        "## Grid Search on Random Forest"
      ]
    },
    {
      "cell_type": "code",
      "execution_count": null,
      "metadata": {
        "id": "_nO89ptYACM-"
      },
      "outputs": [],
      "source": [
        "random_forest = RandomForestClassifier(random_state = 42)"
      ]
    },
    {
      "cell_type": "code",
      "execution_count": null,
      "metadata": {
        "colab": {
          "base_uri": "https://localhost:8080/"
        },
        "id": "ynz7dyHSAKUE",
        "outputId": "646c414d-a04f-4273-a5db-84dfea0af08a"
      },
      "outputs": [
        {
          "data": {
            "text/plain": [
              "RandomForestClassifier(random_state=42)"
            ]
          },
          "execution_count": 131,
          "metadata": {},
          "output_type": "execute_result"
        }
      ],
      "source": [
        "random_forest.fit(X_train_svd,y_train)"
      ]
    },
    {
      "cell_type": "code",
      "execution_count": null,
      "metadata": {
        "colab": {
          "base_uri": "https://localhost:8080/"
        },
        "id": "mX5BmCkSAKcX",
        "outputId": "972574f7-c4b6-4d6d-8bc3-ee2d978bc0b4"
      },
      "outputs": [
        {
          "data": {
            "text/plain": [
              "0.5142424242424243"
            ]
          },
          "execution_count": 132,
          "metadata": {},
          "output_type": "execute_result"
        }
      ],
      "source": [
        "random_forest.score(X_test_svd, y_test)"
      ]
    },
    {
      "cell_type": "code",
      "execution_count": null,
      "metadata": {
        "id": "KSpOemHwAKi1"
      },
      "outputs": [],
      "source": [
        "grid = {\n",
        " 'max_depth': [1,2,3,5,7,9],\n",
        " 'max_features': ['sqrt','log2'],\n",
        " 'min_samples_leaf': [1, 2, 4],\n",
        " 'min_samples_split': [2, 5, 10],\n",
        " 'n_estimators': [200, 400, 600, 800, 1000]}"
      ]
    },
    {
      "cell_type": "code",
      "execution_count": null,
      "metadata": {
        "id": "sUFa-dKnAVgf"
      },
      "outputs": [],
      "source": [
        "random_forest_cv = GridSearchCV(estimator = random_forest, param_grid = grid, cv = 4,verbose = 1)"
      ]
    },
    {
      "cell_type": "code",
      "execution_count": null,
      "metadata": {
        "colab": {
          "background_save": true,
          "base_uri": "https://localhost:8080/"
        },
        "id": "A1LgSO4EFEs5",
        "outputId": "a240e875-f5d5-4cc5-edee-cd7852b33275"
      },
      "outputs": [
        {
          "name": "stdout",
          "output_type": "stream",
          "text": [
            "Fitting 4 folds for each of 540 candidates, totalling 2160 fits\n"
          ]
        }
      ],
      "source": [
        "random_forest_cv.fit(X_train_svd,y_train)"
      ]
    },
    {
      "cell_type": "code",
      "execution_count": null,
      "metadata": {
        "id": "VW-1IhBkAaGF"
      },
      "outputs": [],
      "source": [
        "print(\"tuned hyperparameters :(best parameters) \",random_forest_cv.best_params_)\n",
        "print(\"accuracy :\",random_forest_cv.best_score_)"
      ]
    },
    {
      "cell_type": "markdown",
      "metadata": {
        "id": "2WiARnN9O1q_"
      },
      "source": [
        "## Neural Networks First Simple Model"
      ]
    },
    {
      "cell_type": "code",
      "execution_count": null,
      "metadata": {
        "id": "XQNZ-PDRSdTb"
      },
      "outputs": [],
      "source": [
        "# define the keras model\n",
        "model = Sequential()\n",
        "model.add(Dense(12, input_dim=300, activation='relu'))\n",
        "model.add(Dense(8, activation='relu'))\n",
        "model.add(Dense(1, activation='sigmoid'))"
      ]
    },
    {
      "cell_type": "code",
      "execution_count": null,
      "metadata": {
        "id": "f5iBcpD9ShKx"
      },
      "outputs": [],
      "source": [
        "# compile the keras model\n",
        "model.compile(loss='binary_crossentropy', optimizer='adam', metrics=['accuracy'])"
      ]
    },
    {
      "cell_type": "code",
      "execution_count": null,
      "metadata": {
        "colab": {
          "base_uri": "https://localhost:8080/"
        },
        "id": "OqyY6ruRVKLM",
        "outputId": "bd77c4ae-7097-4833-d751-c5a1767c6d24"
      },
      "outputs": [
        {
          "name": "stdout",
          "output_type": "stream",
          "text": [
            "Epoch 1/150\n",
            "40200/40200 [==============================] - 101s 2ms/step - loss: 0.6928 - accuracy: 0.5014\n",
            "Epoch 2/150\n",
            "40200/40200 [==============================] - 99s 2ms/step - loss: 0.6921 - accuracy: 0.5030\n",
            "Epoch 3/150\n",
            "40200/40200 [==============================] - 99s 2ms/step - loss: 0.6918 - accuracy: 0.5036\n",
            "Epoch 4/150\n",
            "40200/40200 [==============================] - 98s 2ms/step - loss: 0.6916 - accuracy: 0.5053\n",
            "Epoch 5/150\n",
            "40200/40200 [==============================] - 98s 2ms/step - loss: 0.6915 - accuracy: 0.5041\n",
            "Epoch 6/150\n",
            "40200/40200 [==============================] - 98s 2ms/step - loss: 0.6913 - accuracy: 0.5055\n",
            "Epoch 7/150\n",
            "40200/40200 [==============================] - 97s 2ms/step - loss: 0.6912 - accuracy: 0.5062\n",
            "Epoch 8/150\n",
            "40200/40200 [==============================] - 97s 2ms/step - loss: 0.6910 - accuracy: 0.5076\n",
            "Epoch 9/150\n",
            "40200/40200 [==============================] - 97s 2ms/step - loss: 0.6910 - accuracy: 0.5069\n",
            "Epoch 10/150\n",
            "40200/40200 [==============================] - 96s 2ms/step - loss: 0.6903 - accuracy: 0.5131\n",
            "Epoch 11/150\n",
            "40200/40200 [==============================] - 96s 2ms/step - loss: 0.6897 - accuracy: 0.5148\n",
            "Epoch 12/150\n",
            "40200/40200 [==============================] - 96s 2ms/step - loss: 0.6894 - accuracy: 0.5155\n",
            "Epoch 13/150\n",
            "40200/40200 [==============================] - 96s 2ms/step - loss: 0.6892 - accuracy: 0.5159\n",
            "Epoch 14/150\n",
            "40200/40200 [==============================] - 95s 2ms/step - loss: 0.6889 - accuracy: 0.5167\n",
            "Epoch 15/150\n",
            "40200/40200 [==============================] - 95s 2ms/step - loss: 0.6887 - accuracy: 0.5170\n",
            "Epoch 16/150\n",
            "40200/40200 [==============================] - 98s 2ms/step - loss: 0.6886 - accuracy: 0.5183\n",
            "Epoch 17/150\n",
            "40200/40200 [==============================] - 96s 2ms/step - loss: 0.6884 - accuracy: 0.5187\n",
            "Epoch 18/150\n",
            "40200/40200 [==============================] - 95s 2ms/step - loss: 0.6882 - accuracy: 0.5177\n",
            "Epoch 19/150\n",
            "40200/40200 [==============================] - 96s 2ms/step - loss: 0.6881 - accuracy: 0.5194\n",
            "Epoch 20/150\n",
            "40200/40200 [==============================] - 95s 2ms/step - loss: 0.6880 - accuracy: 0.5197\n",
            "Epoch 21/150\n",
            "40200/40200 [==============================] - 95s 2ms/step - loss: 0.6879 - accuracy: 0.5200\n",
            "Epoch 22/150\n",
            "40200/40200 [==============================] - 95s 2ms/step - loss: 0.6878 - accuracy: 0.5192\n",
            "Epoch 23/150\n",
            "40200/40200 [==============================] - 95s 2ms/step - loss: 0.6876 - accuracy: 0.5192\n",
            "Epoch 24/150\n",
            "40200/40200 [==============================] - 94s 2ms/step - loss: 0.6875 - accuracy: 0.5196\n",
            "Epoch 25/150\n",
            "40200/40200 [==============================] - 94s 2ms/step - loss: 0.6874 - accuracy: 0.5203\n",
            "Epoch 26/150\n",
            "40200/40200 [==============================] - 94s 2ms/step - loss: 0.6874 - accuracy: 0.5198\n",
            "Epoch 27/150\n",
            "40200/40200 [==============================] - 94s 2ms/step - loss: 0.6872 - accuracy: 0.5201\n",
            "Epoch 28/150\n",
            "40200/40200 [==============================] - 94s 2ms/step - loss: 0.6871 - accuracy: 0.5208\n",
            "Epoch 29/150\n",
            "40200/40200 [==============================] - 94s 2ms/step - loss: 0.6871 - accuracy: 0.5199\n",
            "Epoch 30/150\n",
            "40200/40200 [==============================] - 94s 2ms/step - loss: 0.6870 - accuracy: 0.5196\n",
            "Epoch 31/150\n",
            "40200/40200 [==============================] - 94s 2ms/step - loss: 0.6869 - accuracy: 0.5207\n",
            "Epoch 32/150\n",
            "40200/40200 [==============================] - 94s 2ms/step - loss: 0.6869 - accuracy: 0.5202\n",
            "Epoch 33/150\n",
            "40200/40200 [==============================] - 94s 2ms/step - loss: 0.6867 - accuracy: 0.5212\n",
            "Epoch 34/150\n",
            "40200/40200 [==============================] - 94s 2ms/step - loss: 0.6867 - accuracy: 0.5223\n",
            "Epoch 35/150\n",
            "40200/40200 [==============================] - 94s 2ms/step - loss: 0.6866 - accuracy: 0.5224\n",
            "Epoch 36/150\n",
            "40200/40200 [==============================] - 94s 2ms/step - loss: 0.6865 - accuracy: 0.5210\n",
            "Epoch 37/150\n",
            "40200/40200 [==============================] - 94s 2ms/step - loss: 0.6865 - accuracy: 0.5215\n",
            "Epoch 38/150\n",
            "40200/40200 [==============================] - 93s 2ms/step - loss: 0.6864 - accuracy: 0.5217\n",
            "Epoch 39/150\n",
            "40200/40200 [==============================] - 94s 2ms/step - loss: 0.6864 - accuracy: 0.5232\n",
            "Epoch 40/150\n",
            "40200/40200 [==============================] - 93s 2ms/step - loss: 0.6863 - accuracy: 0.5228\n",
            "Epoch 41/150\n",
            "40200/40200 [==============================] - 93s 2ms/step - loss: 0.6862 - accuracy: 0.5222\n",
            "Epoch 42/150\n",
            "40200/40200 [==============================] - 94s 2ms/step - loss: 0.6862 - accuracy: 0.5233\n",
            "Epoch 43/150\n",
            "40200/40200 [==============================] - 93s 2ms/step - loss: 0.6861 - accuracy: 0.5227\n",
            "Epoch 44/150\n",
            "40200/40200 [==============================] - 93s 2ms/step - loss: 0.6861 - accuracy: 0.5225\n",
            "Epoch 45/150\n",
            "40200/40200 [==============================] - 94s 2ms/step - loss: 0.6860 - accuracy: 0.5233\n",
            "Epoch 46/150\n",
            "40200/40200 [==============================] - 94s 2ms/step - loss: 0.6859 - accuracy: 0.5234\n",
            "Epoch 47/150\n",
            "40200/40200 [==============================] - 96s 2ms/step - loss: 0.6859 - accuracy: 0.5223\n",
            "Epoch 48/150\n",
            "40200/40200 [==============================] - 94s 2ms/step - loss: 0.6859 - accuracy: 0.5225\n",
            "Epoch 49/150\n",
            "40200/40200 [==============================] - 95s 2ms/step - loss: 0.6858 - accuracy: 0.5227\n",
            "Epoch 50/150\n",
            "40200/40200 [==============================] - 93s 2ms/step - loss: 0.6858 - accuracy: 0.5225\n",
            "Epoch 51/150\n",
            "40200/40200 [==============================] - 94s 2ms/step - loss: 0.6858 - accuracy: 0.5231\n",
            "Epoch 52/150\n",
            "40200/40200 [==============================] - 95s 2ms/step - loss: 0.6857 - accuracy: 0.5229\n",
            "Epoch 53/150\n",
            "40200/40200 [==============================] - 94s 2ms/step - loss: 0.6856 - accuracy: 0.5235\n",
            "Epoch 54/150\n",
            "40200/40200 [==============================] - 94s 2ms/step - loss: 0.6856 - accuracy: 0.5229\n",
            "Epoch 55/150\n",
            "40200/40200 [==============================] - 94s 2ms/step - loss: 0.6856 - accuracy: 0.5247\n",
            "Epoch 56/150\n",
            "40200/40200 [==============================] - 93s 2ms/step - loss: 0.6856 - accuracy: 0.5235\n",
            "Epoch 57/150\n",
            "40200/40200 [==============================] - 93s 2ms/step - loss: 0.6855 - accuracy: 0.5237\n",
            "Epoch 58/150\n",
            "40200/40200 [==============================] - 94s 2ms/step - loss: 0.6855 - accuracy: 0.5241\n",
            "Epoch 59/150\n",
            "40200/40200 [==============================] - 93s 2ms/step - loss: 0.6855 - accuracy: 0.5236\n",
            "Epoch 60/150\n",
            "40200/40200 [==============================] - 94s 2ms/step - loss: 0.6854 - accuracy: 0.5240\n",
            "Epoch 61/150\n",
            "40200/40200 [==============================] - 93s 2ms/step - loss: 0.6854 - accuracy: 0.5241\n",
            "Epoch 62/150\n",
            "40200/40200 [==============================] - 94s 2ms/step - loss: 0.6854 - accuracy: 0.5241\n",
            "Epoch 63/150\n",
            "40200/40200 [==============================] - 93s 2ms/step - loss: 0.6853 - accuracy: 0.5242\n",
            "Epoch 64/150\n",
            "40200/40200 [==============================] - 93s 2ms/step - loss: 0.6853 - accuracy: 0.5251\n",
            "Epoch 65/150\n",
            "40200/40200 [==============================] - 94s 2ms/step - loss: 0.6852 - accuracy: 0.5253\n",
            "Epoch 66/150\n",
            "40200/40200 [==============================] - 94s 2ms/step - loss: 0.6852 - accuracy: 0.5246\n",
            "Epoch 67/150\n",
            "40200/40200 [==============================] - 94s 2ms/step - loss: 0.6852 - accuracy: 0.5245\n",
            "Epoch 68/150\n",
            "40200/40200 [==============================] - 94s 2ms/step - loss: 0.6852 - accuracy: 0.5246\n",
            "Epoch 69/150\n",
            "40200/40200 [==============================] - 94s 2ms/step - loss: 0.6851 - accuracy: 0.5252\n",
            "Epoch 70/150\n",
            "40200/40200 [==============================] - 94s 2ms/step - loss: 0.6851 - accuracy: 0.5251\n",
            "Epoch 71/150\n",
            "40200/40200 [==============================] - 94s 2ms/step - loss: 0.6851 - accuracy: 0.5253\n",
            "Epoch 72/150\n",
            "40200/40200 [==============================] - 94s 2ms/step - loss: 0.6850 - accuracy: 0.5243\n",
            "Epoch 73/150\n",
            "40200/40200 [==============================] - 93s 2ms/step - loss: 0.6850 - accuracy: 0.5240\n",
            "Epoch 74/150\n",
            "40200/40200 [==============================] - 94s 2ms/step - loss: 0.6850 - accuracy: 0.5244\n",
            "Epoch 75/150\n",
            "40200/40200 [==============================] - 94s 2ms/step - loss: 0.6850 - accuracy: 0.5238\n",
            "Epoch 76/150\n",
            "40200/40200 [==============================] - 94s 2ms/step - loss: 0.6850 - accuracy: 0.5249\n",
            "Epoch 77/150\n",
            "40200/40200 [==============================] - 93s 2ms/step - loss: 0.6850 - accuracy: 0.5256\n",
            "Epoch 78/150\n",
            "40200/40200 [==============================] - 94s 2ms/step - loss: 0.6849 - accuracy: 0.5248\n",
            "Epoch 79/150\n",
            "40200/40200 [==============================] - 94s 2ms/step - loss: 0.6849 - accuracy: 0.5261\n",
            "Epoch 80/150\n",
            "40200/40200 [==============================] - 94s 2ms/step - loss: 0.6849 - accuracy: 0.5249\n",
            "Epoch 81/150\n",
            "40200/40200 [==============================] - 94s 2ms/step - loss: 0.6848 - accuracy: 0.5245\n",
            "Epoch 82/150\n",
            "40200/40200 [==============================] - 94s 2ms/step - loss: 0.6849 - accuracy: 0.5256\n",
            "Epoch 83/150\n",
            "40200/40200 [==============================] - 94s 2ms/step - loss: 0.6848 - accuracy: 0.5254\n",
            "Epoch 84/150\n",
            "40200/40200 [==============================] - 94s 2ms/step - loss: 0.6848 - accuracy: 0.5252\n",
            "Epoch 85/150\n",
            "40200/40200 [==============================] - 95s 2ms/step - loss: 0.6848 - accuracy: 0.5257\n",
            "Epoch 86/150\n",
            "40200/40200 [==============================] - 94s 2ms/step - loss: 0.6848 - accuracy: 0.5245\n",
            "Epoch 87/150\n",
            "40200/40200 [==============================] - 94s 2ms/step - loss: 0.6848 - accuracy: 0.5246\n",
            "Epoch 88/150\n",
            "40200/40200 [==============================] - 94s 2ms/step - loss: 0.6847 - accuracy: 0.5260\n",
            "Epoch 89/150\n",
            "40200/40200 [==============================] - 94s 2ms/step - loss: 0.6847 - accuracy: 0.5264\n",
            "Epoch 90/150\n",
            "40200/40200 [==============================] - 94s 2ms/step - loss: 0.6847 - accuracy: 0.5252\n",
            "Epoch 91/150\n",
            "40200/40200 [==============================] - 94s 2ms/step - loss: 0.6846 - accuracy: 0.5246\n",
            "Epoch 92/150\n",
            "40200/40200 [==============================] - 94s 2ms/step - loss: 0.6846 - accuracy: 0.5248\n",
            "Epoch 93/150\n",
            "40200/40200 [==============================] - 94s 2ms/step - loss: 0.6846 - accuracy: 0.5256\n",
            "Epoch 94/150\n",
            "40200/40200 [==============================] - 93s 2ms/step - loss: 0.6846 - accuracy: 0.5261\n",
            "Epoch 95/150\n",
            "40200/40200 [==============================] - 94s 2ms/step - loss: 0.6846 - accuracy: 0.5252\n",
            "Epoch 96/150\n",
            "40200/40200 [==============================] - 93s 2ms/step - loss: 0.6846 - accuracy: 0.5260\n",
            "Epoch 97/150\n",
            "40200/40200 [==============================] - 93s 2ms/step - loss: 0.6846 - accuracy: 0.5260\n",
            "Epoch 98/150\n",
            "40200/40200 [==============================] - 94s 2ms/step - loss: 0.6845 - accuracy: 0.5255\n",
            "Epoch 99/150\n",
            "40200/40200 [==============================] - 93s 2ms/step - loss: 0.6845 - accuracy: 0.5251\n",
            "Epoch 100/150\n",
            "40200/40200 [==============================] - 93s 2ms/step - loss: 0.6846 - accuracy: 0.5255\n",
            "Epoch 101/150\n",
            "40200/40200 [==============================] - 93s 2ms/step - loss: 0.6845 - accuracy: 0.5258\n",
            "Epoch 102/150\n",
            "40200/40200 [==============================] - 93s 2ms/step - loss: 0.6845 - accuracy: 0.5264\n",
            "Epoch 103/150\n",
            "40200/40200 [==============================] - 93s 2ms/step - loss: 0.6845 - accuracy: 0.5265\n",
            "Epoch 104/150\n",
            "40200/40200 [==============================] - 95s 2ms/step - loss: 0.6845 - accuracy: 0.5259\n",
            "Epoch 105/150\n",
            "40200/40200 [==============================] - 95s 2ms/step - loss: 0.6845 - accuracy: 0.5254\n",
            "Epoch 106/150\n",
            "40200/40200 [==============================] - 94s 2ms/step - loss: 0.6844 - accuracy: 0.5276\n",
            "Epoch 107/150\n",
            "40200/40200 [==============================] - 94s 2ms/step - loss: 0.6844 - accuracy: 0.5253\n",
            "Epoch 108/150\n",
            "40200/40200 [==============================] - 95s 2ms/step - loss: 0.6844 - accuracy: 0.5269\n",
            "Epoch 109/150\n",
            "40200/40200 [==============================] - 94s 2ms/step - loss: 0.6845 - accuracy: 0.5251\n",
            "Epoch 110/150\n",
            "40200/40200 [==============================] - 94s 2ms/step - loss: 0.6843 - accuracy: 0.5258\n",
            "Epoch 111/150\n",
            "40200/40200 [==============================] - 94s 2ms/step - loss: 0.6844 - accuracy: 0.5273\n",
            "Epoch 112/150\n",
            "40200/40200 [==============================] - 94s 2ms/step - loss: 0.6843 - accuracy: 0.5266\n",
            "Epoch 113/150\n",
            "40200/40200 [==============================] - 94s 2ms/step - loss: 0.6843 - accuracy: 0.5263\n",
            "Epoch 114/150\n",
            "40200/40200 [==============================] - 94s 2ms/step - loss: 0.6843 - accuracy: 0.5274\n",
            "Epoch 115/150\n",
            "40200/40200 [==============================] - 94s 2ms/step - loss: 0.6843 - accuracy: 0.5258\n",
            "Epoch 116/150\n",
            "40200/40200 [==============================] - 94s 2ms/step - loss: 0.6842 - accuracy: 0.5262\n",
            "Epoch 117/150\n",
            "40200/40200 [==============================] - 94s 2ms/step - loss: 0.6842 - accuracy: 0.5269\n",
            "Epoch 118/150\n",
            "40200/40200 [==============================] - 94s 2ms/step - loss: 0.6842 - accuracy: 0.5265\n",
            "Epoch 119/150\n",
            "40200/40200 [==============================] - 94s 2ms/step - loss: 0.6843 - accuracy: 0.5260\n",
            "Epoch 120/150\n",
            "40200/40200 [==============================] - 94s 2ms/step - loss: 0.6842 - accuracy: 0.5260\n",
            "Epoch 121/150\n",
            "40200/40200 [==============================] - 94s 2ms/step - loss: 0.6842 - accuracy: 0.5267\n",
            "Epoch 122/150\n",
            "40200/40200 [==============================] - 94s 2ms/step - loss: 0.6842 - accuracy: 0.5259\n",
            "Epoch 123/150\n",
            "40200/40200 [==============================] - 93s 2ms/step - loss: 0.6842 - accuracy: 0.5261\n",
            "Epoch 124/150\n",
            "40200/40200 [==============================] - 93s 2ms/step - loss: 0.6841 - accuracy: 0.5263\n",
            "Epoch 125/150\n",
            "40200/40200 [==============================] - 94s 2ms/step - loss: 0.6842 - accuracy: 0.5258\n",
            "Epoch 126/150\n",
            "40200/40200 [==============================] - 94s 2ms/step - loss: 0.6841 - accuracy: 0.5267\n",
            "Epoch 127/150\n",
            "40200/40200 [==============================] - 94s 2ms/step - loss: 0.6841 - accuracy: 0.5256\n",
            "Epoch 128/150\n",
            "40200/40200 [==============================] - 97s 2ms/step - loss: 0.6841 - accuracy: 0.5261\n",
            "Epoch 129/150\n",
            "40200/40200 [==============================] - 95s 2ms/step - loss: 0.6841 - accuracy: 0.5263\n",
            "Epoch 130/150\n",
            "40200/40200 [==============================] - 95s 2ms/step - loss: 0.6841 - accuracy: 0.5271\n",
            "Epoch 131/150\n",
            "40200/40200 [==============================] - 95s 2ms/step - loss: 0.6841 - accuracy: 0.5256\n",
            "Epoch 132/150\n",
            "40200/40200 [==============================] - 94s 2ms/step - loss: 0.6841 - accuracy: 0.5261\n",
            "Epoch 133/150\n",
            "40200/40200 [==============================] - 94s 2ms/step - loss: 0.6841 - accuracy: 0.5267\n",
            "Epoch 134/150\n",
            "40200/40200 [==============================] - 95s 2ms/step - loss: 0.6840 - accuracy: 0.5278\n",
            "Epoch 135/150\n",
            "40200/40200 [==============================] - 96s 2ms/step - loss: 0.6840 - accuracy: 0.5269\n",
            "Epoch 136/150\n",
            "40200/40200 [==============================] - 94s 2ms/step - loss: 0.6840 - accuracy: 0.5270\n",
            "Epoch 137/150\n",
            "40200/40200 [==============================] - 95s 2ms/step - loss: 0.6839 - accuracy: 0.5277\n",
            "Epoch 138/150\n",
            "40200/40200 [==============================] - 95s 2ms/step - loss: 0.6840 - accuracy: 0.5260\n",
            "Epoch 139/150\n",
            "40200/40200 [==============================] - 94s 2ms/step - loss: 0.6840 - accuracy: 0.5265\n",
            "Epoch 140/150\n",
            "40200/40200 [==============================] - 94s 2ms/step - loss: 0.6840 - accuracy: 0.5265\n",
            "Epoch 141/150\n",
            "40200/40200 [==============================] - 94s 2ms/step - loss: 0.6839 - accuracy: 0.5273\n",
            "Epoch 142/150\n",
            "40200/40200 [==============================] - 94s 2ms/step - loss: 0.6839 - accuracy: 0.5265\n",
            "Epoch 143/150\n",
            "40200/40200 [==============================] - 94s 2ms/step - loss: 0.6839 - accuracy: 0.5276\n",
            "Epoch 144/150\n",
            " 9736/40200 [======>.......................] - ETA: 1:10 - loss: 0.6836 - accuracy: 0.5259"
          ]
        }
      ],
      "source": [
        "# fit the keras model on the dataset\n",
        "model.fit(X_train_svd, y_train, epochs=150, batch_size=10)"
      ]
    },
    {
      "cell_type": "code",
      "execution_count": null,
      "metadata": {
        "id": "AhU4gIK9WI2-"
      },
      "outputs": [],
      "source": [
        "# evaluate the keras model\n",
        "_, accuracy = model.evaluate(X, y)\n",
        "print('Accuracy: %.2f' % (accuracy*100))"
      ]
    },
    {
      "cell_type": "code",
      "execution_count": null,
      "metadata": {
        "id": "eqr5DgvZXimD"
      },
      "outputs": [],
      "source": [
        "# make class predictions with the model\n",
        "predictions = (model.predict(X_test_svd) > 0.5).astype(int)"
      ]
    },
    {
      "cell_type": "code",
      "execution_count": null,
      "metadata": {
        "id": "m_Dm5A1-X_Y5"
      },
      "outputs": [],
      "source": [
        "# summarize the first 5 cases\n",
        "for i in range(5):\n",
        "\tprint('%s => %d (expected %d)' % (X[i].tolist(), predictions[i], y[i]))"
      ]
    },
    {
      "cell_type": "markdown",
      "metadata": {
        "id": "aTPpljFHjfmr"
      },
      "source": [
        "## Unsupervised Learning. KMeans Clustering"
      ]
    },
    {
      "cell_type": "code",
      "execution_count": null,
      "metadata": {
        "id": "qT5LbowNjjiU"
      },
      "outputs": [],
      "source": [
        "kmeans = KMeans(n_clusters = 2, init = 'k-means++',n_init = 100, random_state = 42).fit(X_train_svd)"
      ]
    },
    {
      "cell_type": "code",
      "execution_count": null,
      "metadata": {
        "id": "mlinESVdjlfC"
      },
      "outputs": [],
      "source": [
        "# check for optimal number of clusters\n",
        "Sum_of_squared_distances = []\n",
        "K = range(1,8)\n",
        "for k in K:\n",
        "    km = KMeans(n_clusters = k)\n",
        "    km = km.fit(X_train_svd)\n",
        "    Sum_of_squared_distances.append(km.inertia_)"
      ]
    },
    {
      "cell_type": "code",
      "execution_count": null,
      "metadata": {
        "id": "vbWyf3wKjqO7"
      },
      "outputs": [],
      "source": [
        "plt.plot(K,Sum_of_squared_distances, 'bx-')\n",
        "plt.xlabel('k')\n",
        "plt.ylabel('Sum_of_squared_distances')\n",
        "plt.title('Elbow Method for Optimal k')\n",
        "plt.show()\n"
      ]
    },
    {
      "cell_type": "code",
      "execution_count": null,
      "metadata": {
        "id": "VmNnFr6ojt4t"
      },
      "outputs": [],
      "source": [
        "test_data_predictions = kmeans.predict(X_test_svd)"
      ]
    },
    {
      "cell_type": "code",
      "execution_count": null,
      "metadata": {
        "id": "2N1pfo4Jjw1I"
      },
      "outputs": [],
      "source": [
        "test_data_predictions"
      ]
    },
    {
      "cell_type": "code",
      "execution_count": null,
      "metadata": {
        "id": "u2PCq5jTj0EB"
      },
      "outputs": [],
      "source": [
        "print(\"length of test data predictions: \", len(test_data_predictions))\n",
        "print(\"length of y_test: \",len(y_test))"
      ]
    }
  ],
  "metadata": {
    "accelerator": "GPU",
    "colab": {
      "collapsed_sections": [],
      "machine_shape": "hm",
      "name": "newfile.ipynb",
      "provenance": []
    },
    "kernelspec": {
      "display_name": "Python 3",
      "name": "python3"
    },
    "language_info": {
      "name": "python"
    }
  },
  "nbformat": 4,
  "nbformat_minor": 0
}