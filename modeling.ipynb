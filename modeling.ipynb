{
  "cells": [
    {
      "cell_type": "markdown",
      "metadata": {
        "id": "h5-6snTrZkF_"
      },
      "source": [
        "# Prediction Models\n",
        "In this notebook I am first going to import the new clean dataset that was created in the preprocessing notebook. After that I perform vectorization and dimensionality reduction of the dataset to prepare it for feeding into the prediction models.\n",
        "\n",
        "\n",
        "\n"
      ]
    },
    {
      "cell_type": "markdown",
      "metadata": {
        "id": "fxItSu6rfZPa"
      },
      "source": [
        "# Imports\n",
        "Import all the necessary libraries needed for making the dataset ready for modeling. "
      ]
    },
    {
      "cell_type": "code",
      "execution_count": 1,
      "metadata": {
        "id": "Xbx0tqz8HuC5"
      },
      "outputs": [],
      "source": [
        "import pandas as pd\n",
        "from sklearn.model_selection import train_test_split\n",
        "from sklearn.decomposition import PCA\n",
        "from sklearn.decomposition import TruncatedSVD\n",
        "from sklearn.naive_bayes import GaussianNB\n",
        "from itertools import chain\n",
        "import numpy as np\n",
        "from sklearn.feature_extraction.text import TfidfVectorizer\n",
        "from sklearn.metrics import plot_confusion_matrix\n",
        "from sklearn.linear_model import LogisticRegression\n",
        "from sklearn.model_selection import GridSearchCV\n",
        "from sklearn.tree import DecisionTreeClassifier\n",
        "from sklearn.ensemble import RandomForestClassifier\n",
        "from numpy import loadtxt\n",
        "from keras.models import Sequential\n",
        "from keras.layers import Dense\n",
        "from keras.layers import Flatten\n",
        "from sklearn.cluster import KMeans\n",
        "import matplotlib.pyplot as plt\n",
        "from sklearn.cluster import AgglomerativeClustering"
      ]
    },
    {
      "cell_type": "code",
      "execution_count": 2,
      "metadata": {
        "id": "VS9R8bK5H1oA"
      },
      "outputs": [],
      "source": [
        "# import the new dataset created in the preprocessing notebook. \n",
        "df = pd.read_csv('/content/new_file_jan24.csv')"
      ]
    },
    {
      "cell_type": "code",
      "execution_count": 3,
      "metadata": {
        "colab": {
          "base_uri": "https://localhost:8080/"
        },
        "id": "NjrGsHeSVect",
        "outputId": "8a67c721-b1f2-48f5-ffab-69765b7436ed"
      },
      "outputs": [
        {
          "output_type": "execute_result",
          "data": {
            "text/plain": [
              "600000"
            ]
          },
          "metadata": {},
          "execution_count": 3
        }
      ],
      "source": [
        "# check the length of the dataset to make sure it is 0.6 million observations long. \n",
        "len(df)"
      ]
    },
    {
      "cell_type": "code",
      "execution_count": 4,
      "metadata": {
        "colab": {
          "base_uri": "https://localhost:8080/",
          "height": 477
        },
        "id": "yzBqJAQPJZGF",
        "outputId": "64dc748a-7b33-4b51-e3ae-115c2f560c4f"
      },
      "outputs": [
        {
          "output_type": "execute_result",
          "data": {
            "text/html": [
              "\n",
              "  <div id=\"df-d505c94a-b006-4afe-840a-1bb1317d6c16\">\n",
              "    <div class=\"colab-df-container\">\n",
              "      <div>\n",
              "<style scoped>\n",
              "    .dataframe tbody tr th:only-of-type {\n",
              "        vertical-align: middle;\n",
              "    }\n",
              "\n",
              "    .dataframe tbody tr th {\n",
              "        vertical-align: top;\n",
              "    }\n",
              "\n",
              "    .dataframe thead th {\n",
              "        text-align: right;\n",
              "    }\n",
              "</style>\n",
              "<table border=\"1\" class=\"dataframe\">\n",
              "  <thead>\n",
              "    <tr style=\"text-align: right;\">\n",
              "      <th></th>\n",
              "      <th>Unnamed: 0</th>\n",
              "      <th>target</th>\n",
              "      <th>timestamp</th>\n",
              "      <th>username</th>\n",
              "      <th>text</th>\n",
              "      <th>text_lemmatized</th>\n",
              "      <th>text_nostopwords</th>\n",
              "      <th>text_stemmed</th>\n",
              "      <th>low_removed</th>\n",
              "    </tr>\n",
              "  </thead>\n",
              "  <tbody>\n",
              "    <tr>\n",
              "      <th>0</th>\n",
              "      <td>0</td>\n",
              "      <td>0</td>\n",
              "      <td>Mon Apr 06 22:19:45 PDT 2009</td>\n",
              "      <td>_TheSpecialOne_</td>\n",
              "      <td>switchfoot httptwitpiccom2y1zl  awww thats a b...</td>\n",
              "      <td>['switchfoot', 'httptwitpiccom2y1zl', 'awww', ...</td>\n",
              "      <td>switchfoot httptwitpiccom2y1zl awww thats bumm...</td>\n",
              "      <td>switchfoot httptwitpiccom2y1zl awww thats bumm...</td>\n",
              "      <td>switchfoot awww thats bummer get david carr th...</td>\n",
              "    </tr>\n",
              "    <tr>\n",
              "      <th>1</th>\n",
              "      <td>6</td>\n",
              "      <td>0</td>\n",
              "      <td>Mon Apr 06 22:20:03 PDT 2009</td>\n",
              "      <td>mybirch</td>\n",
              "      <td>need a hug</td>\n",
              "      <td>['need', 'a', 'hug']</td>\n",
              "      <td>need hug</td>\n",
              "      <td>need hug</td>\n",
              "      <td>need hug</td>\n",
              "    </tr>\n",
              "    <tr>\n",
              "      <th>2</th>\n",
              "      <td>8</td>\n",
              "      <td>0</td>\n",
              "      <td>Mon Apr 06 22:20:05 PDT 2009</td>\n",
              "      <td>2Hood4Hollywood</td>\n",
              "      <td>tatiana_k nope they didnt have it</td>\n",
              "      <td>['tatiana_k', 'nope', 'they', 'didnt', 'have',...</td>\n",
              "      <td>tatiana_k nope didnt</td>\n",
              "      <td>tatiana_k nope didnt</td>\n",
              "      <td>nope didnt</td>\n",
              "    </tr>\n",
              "    <tr>\n",
              "      <th>3</th>\n",
              "      <td>9</td>\n",
              "      <td>0</td>\n",
              "      <td>Mon Apr 06 22:20:09 PDT 2009</td>\n",
              "      <td>mimismo</td>\n",
              "      <td>twittera que me muera</td>\n",
              "      <td>['twittera', 'que', 'me', 'muera']</td>\n",
              "      <td>twittera que muera</td>\n",
              "      <td>twittera que muera</td>\n",
              "      <td>que</td>\n",
              "    </tr>\n",
              "    <tr>\n",
              "      <th>4</th>\n",
              "      <td>12</td>\n",
              "      <td>0</td>\n",
              "      <td>Mon Apr 06 22:20:19 PDT 2009</td>\n",
              "      <td>TLeC</td>\n",
              "      <td>caregiving i couldnt bear to watch it  and i t...</td>\n",
              "      <td>['caregiving', 'i', 'couldnt', 'bear', 'to', '...</td>\n",
              "      <td>caregiving couldnt bear watch thought ua loss ...</td>\n",
              "      <td>caregiving couldnt bear watch thought ua loss ...</td>\n",
              "      <td>couldnt bear watch thought ua loss embarrass</td>\n",
              "    </tr>\n",
              "  </tbody>\n",
              "</table>\n",
              "</div>\n",
              "      <button class=\"colab-df-convert\" onclick=\"convertToInteractive('df-d505c94a-b006-4afe-840a-1bb1317d6c16')\"\n",
              "              title=\"Convert this dataframe to an interactive table.\"\n",
              "              style=\"display:none;\">\n",
              "        \n",
              "  <svg xmlns=\"http://www.w3.org/2000/svg\" height=\"24px\"viewBox=\"0 0 24 24\"\n",
              "       width=\"24px\">\n",
              "    <path d=\"M0 0h24v24H0V0z\" fill=\"none\"/>\n",
              "    <path d=\"M18.56 5.44l.94 2.06.94-2.06 2.06-.94-2.06-.94-.94-2.06-.94 2.06-2.06.94zm-11 1L8.5 8.5l.94-2.06 2.06-.94-2.06-.94L8.5 2.5l-.94 2.06-2.06.94zm10 10l.94 2.06.94-2.06 2.06-.94-2.06-.94-.94-2.06-.94 2.06-2.06.94z\"/><path d=\"M17.41 7.96l-1.37-1.37c-.4-.4-.92-.59-1.43-.59-.52 0-1.04.2-1.43.59L10.3 9.45l-7.72 7.72c-.78.78-.78 2.05 0 2.83L4 21.41c.39.39.9.59 1.41.59.51 0 1.02-.2 1.41-.59l7.78-7.78 2.81-2.81c.8-.78.8-2.07 0-2.86zM5.41 20L4 18.59l7.72-7.72 1.47 1.35L5.41 20z\"/>\n",
              "  </svg>\n",
              "      </button>\n",
              "      \n",
              "  <style>\n",
              "    .colab-df-container {\n",
              "      display:flex;\n",
              "      flex-wrap:wrap;\n",
              "      gap: 12px;\n",
              "    }\n",
              "\n",
              "    .colab-df-convert {\n",
              "      background-color: #E8F0FE;\n",
              "      border: none;\n",
              "      border-radius: 50%;\n",
              "      cursor: pointer;\n",
              "      display: none;\n",
              "      fill: #1967D2;\n",
              "      height: 32px;\n",
              "      padding: 0 0 0 0;\n",
              "      width: 32px;\n",
              "    }\n",
              "\n",
              "    .colab-df-convert:hover {\n",
              "      background-color: #E2EBFA;\n",
              "      box-shadow: 0px 1px 2px rgba(60, 64, 67, 0.3), 0px 1px 3px 1px rgba(60, 64, 67, 0.15);\n",
              "      fill: #174EA6;\n",
              "    }\n",
              "\n",
              "    [theme=dark] .colab-df-convert {\n",
              "      background-color: #3B4455;\n",
              "      fill: #D2E3FC;\n",
              "    }\n",
              "\n",
              "    [theme=dark] .colab-df-convert:hover {\n",
              "      background-color: #434B5C;\n",
              "      box-shadow: 0px 1px 3px 1px rgba(0, 0, 0, 0.15);\n",
              "      filter: drop-shadow(0px 1px 2px rgba(0, 0, 0, 0.3));\n",
              "      fill: #FFFFFF;\n",
              "    }\n",
              "  </style>\n",
              "\n",
              "      <script>\n",
              "        const buttonEl =\n",
              "          document.querySelector('#df-d505c94a-b006-4afe-840a-1bb1317d6c16 button.colab-df-convert');\n",
              "        buttonEl.style.display =\n",
              "          google.colab.kernel.accessAllowed ? 'block' : 'none';\n",
              "\n",
              "        async function convertToInteractive(key) {\n",
              "          const element = document.querySelector('#df-d505c94a-b006-4afe-840a-1bb1317d6c16');\n",
              "          const dataTable =\n",
              "            await google.colab.kernel.invokeFunction('convertToInteractive',\n",
              "                                                     [key], {});\n",
              "          if (!dataTable) return;\n",
              "\n",
              "          const docLinkHtml = 'Like what you see? Visit the ' +\n",
              "            '<a target=\"_blank\" href=https://colab.research.google.com/notebooks/data_table.ipynb>data table notebook</a>'\n",
              "            + ' to learn more about interactive tables.';\n",
              "          element.innerHTML = '';\n",
              "          dataTable['output_type'] = 'display_data';\n",
              "          await google.colab.output.renderOutput(dataTable, element);\n",
              "          const docLink = document.createElement('div');\n",
              "          docLink.innerHTML = docLinkHtml;\n",
              "          element.appendChild(docLink);\n",
              "        }\n",
              "      </script>\n",
              "    </div>\n",
              "  </div>\n",
              "  "
            ],
            "text/plain": [
              "   Unnamed: 0  ...                                        low_removed\n",
              "0           0  ...  switchfoot awww thats bummer get david carr th...\n",
              "1           6  ...                                           need hug\n",
              "2           8  ...                                         nope didnt\n",
              "3           9  ...                                                que\n",
              "4          12  ...       couldnt bear watch thought ua loss embarrass\n",
              "\n",
              "[5 rows x 9 columns]"
            ]
          },
          "metadata": {},
          "execution_count": 4
        }
      ],
      "source": [
        "# initial look at the dataset.\n",
        "df.head(5)"
      ]
    },
    {
      "cell_type": "markdown",
      "metadata": {
        "id": "vRBcMYQMgefw"
      },
      "source": [
        "## Train Test Split and Vectorization"
      ]
    },
    {
      "cell_type": "code",
      "execution_count": 5,
      "metadata": {
        "id": "jios2tckMoq9"
      },
      "outputs": [],
      "source": [
        "# assign the predictor variable out of the column with the clean text.\n",
        "X = df['low_removed']\n",
        "\n",
        "# assign the target variable\n",
        "y = df['target']"
      ]
    },
    {
      "cell_type": "code",
      "execution_count": 6,
      "metadata": {
        "colab": {
          "base_uri": "https://localhost:8080/"
        },
        "id": "Xg8kwCKyMLk6",
        "outputId": "84212218-8358-4033-fb75-54e0333dd2af"
      },
      "outputs": [
        {
          "output_type": "execute_result",
          "data": {
            "text/plain": [
              "0         switchfoot awww thats bummer get david carr th...\n",
              "1                                                  need hug\n",
              "2                                                nope didnt\n",
              "3                                                       que\n",
              "4              couldnt bear watch thought ua loss embarrass\n",
              "                                ...                        \n",
              "599995    mmmm sound absolutely perfect schedule full wo...\n",
              "599996    yeah work well wait end wonder time keep good ...\n",
              "599997                             woke school best feel ev\n",
              "599998                   happy birthday boo alll time tupac\n",
              "599999                                                happy\n",
              "Name: low_removed, Length: 600000, dtype: object"
            ]
          },
          "metadata": {},
          "execution_count": 6
        }
      ],
      "source": [
        "# check to see if X has a proper text format.\n",
        "X"
      ]
    },
    {
      "cell_type": "code",
      "execution_count": 7,
      "metadata": {
        "id": "OLlA6NzRNFNL"
      },
      "outputs": [],
      "source": [
        "# instantiate the vectorizer with the parameters that we need. \n",
        "# I adjusted the max_df and min_df parameters several times before and found that the current combination produces the \n",
        "# highest possible accuracy score. \n",
        "vectorizer = TfidfVectorizer(max_df = 60, min_df = 40)"
      ]
    },
    {
      "cell_type": "code",
      "execution_count": 8,
      "metadata": {
        "id": "aR7YbTr_Ngsb"
      },
      "outputs": [],
      "source": [
        "# fit and transform the predictor column with the vectorizer.\n",
        "X_vect = vectorizer.fit_transform(X.values.astype(str))"
      ]
    },
    {
      "cell_type": "code",
      "execution_count": 9,
      "metadata": {
        "id": "DqwsoA5RNpNv"
      },
      "outputs": [],
      "source": [
        "# perform the train_test split. \n",
        "X_train, X_test, y_train, y_test = train_test_split(X_vect,y,test_size=0.33, random_state=42) "
      ]
    },
    {
      "cell_type": "code",
      "execution_count": 10,
      "metadata": {
        "colab": {
          "base_uri": "https://localhost:8080/"
        },
        "id": "X6uypBSWNr-G",
        "outputId": "053cfb4d-0c12-452e-ee93-f452d1fb7ec0"
      },
      "outputs": [
        {
          "output_type": "execute_result",
          "data": {
            "text/plain": [
              "(402000, 1772)"
            ]
          },
          "metadata": {},
          "execution_count": 10
        }
      ],
      "source": [
        "X_train.shape"
      ]
    },
    {
      "cell_type": "markdown",
      "metadata": {
        "id": "u_i96_NeguLa"
      },
      "source": [
        "## Dimensionality Reduction\n",
        "\n",
        "The TfidfVectorizer produced 1772 features. That number of features would be too difficult for the prediction models to work with. By reducing the number of features from 1772 to 800 using TruncatedSVD I am making it easier for the models to detect patterns in the data. \n"
      ]
    },
    {
      "cell_type": "code",
      "execution_count": 11,
      "metadata": {
        "colab": {
          "base_uri": "https://localhost:8080/"
        },
        "id": "6OHGS4SVNx2W",
        "outputId": "dd642d51-35ca-4b83-a8ff-f8adbf08596d"
      },
      "outputs": [
        {
          "output_type": "execute_result",
          "data": {
            "text/plain": [
              "TruncatedSVD(n_components=800, random_state=42)"
            ]
          },
          "metadata": {},
          "execution_count": 11
        }
      ],
      "source": [
        "# instantiate the TruncatedSVD with 800 components. \n",
        "svd = TruncatedSVD(n_components= 800, random_state=42)\n",
        "svd.fit(X_train)"
      ]
    },
    {
      "cell_type": "code",
      "execution_count": 12,
      "metadata": {
        "id": "h0TDN_rrOG4X"
      },
      "outputs": [],
      "source": [
        "# The dimensionality reduction of the X_train produces a numpy ndarray with 800 features\n",
        "# and I am assigning it to X_train_svd. \n",
        "X_train_svd = svd.transform(X_train)"
      ]
    },
    {
      "cell_type": "code",
      "execution_count": 13,
      "metadata": {
        "id": "yJ527nqaOHrL"
      },
      "outputs": [],
      "source": [
        "# The features of X_test also get reduced to 800 and the new numpy ndarray gets assigned to X_test_svd\n",
        "X_test_svd = svd.transform(X_test)"
      ]
    },
    {
      "cell_type": "code",
      "execution_count": 14,
      "metadata": {
        "colab": {
          "base_uri": "https://localhost:8080/"
        },
        "id": "wcNxoi6WOM2-",
        "outputId": "9804e825-252f-4850-c54c-6a6c85893388"
      },
      "outputs": [
        {
          "output_type": "execute_result",
          "data": {
            "text/plain": [
              "0.5091014594336178"
            ]
          },
          "metadata": {},
          "execution_count": 14
        }
      ],
      "source": [
        "# see how much of the variance in the dataset got captured after dimensionality reduction.\n",
        "sum(svd.explained_variance_ratio_)"
      ]
    },
    {
      "cell_type": "code",
      "execution_count": 15,
      "metadata": {
        "colab": {
          "base_uri": "https://localhost:8080/"
        },
        "id": "CmxCqnzOOPL8",
        "outputId": "f63294d5-6b51-4230-ed5c-5ec8df6ace79"
      },
      "outputs": [
        {
          "output_type": "execute_result",
          "data": {
            "text/plain": [
              "numpy.ndarray"
            ]
          },
          "metadata": {},
          "execution_count": 15
        }
      ],
      "source": [
        "type(X_train_svd)"
      ]
    },
    {
      "cell_type": "code",
      "execution_count": 16,
      "metadata": {
        "colab": {
          "base_uri": "https://localhost:8080/"
        },
        "id": "RvWMfrO-ORLf",
        "outputId": "72fb933e-f4ac-40f7-b51b-6bc00e13a400"
      },
      "outputs": [
        {
          "output_type": "execute_result",
          "data": {
            "text/plain": [
              "(402000, 800)"
            ]
          },
          "metadata": {},
          "execution_count": 16
        }
      ],
      "source": [
        "X_train_svd.shape"
      ]
    },
    {
      "cell_type": "code",
      "execution_count": 17,
      "metadata": {
        "id": "4MT07twEOUGp",
        "colab": {
          "base_uri": "https://localhost:8080/"
        },
        "outputId": "cb44773d-a0fb-482f-e735-2e97a3b2e779"
      },
      "outputs": [
        {
          "output_type": "stream",
          "name": "stdout",
          "text": [
            "<class 'list'>\n"
          ]
        }
      ],
      "source": [
        "# X_train_svd needs to be first converted to a list and then into an array again so that it is no longer a sparse matrix.\n",
        "# the reason I am doing that is because some of the models do not accept sparse matrices.\n",
        "X_train_svd = X_train_svd.tolist()\n",
        "print(type(X_train_svd))\n",
        "X_train_svd = np.asarray(X_train_svd)"
      ]
    },
    {
      "cell_type": "markdown",
      "metadata": {
        "id": "zQLlknf0hIYa"
      },
      "source": [
        "## Baseline Model\n",
        "I chose Naive Bayes as my baseline model because it is a simple model and does not require specification of any parameters. "
      ]
    },
    {
      "cell_type": "code",
      "execution_count": null,
      "metadata": {
        "colab": {
          "base_uri": "https://localhost:8080/"
        },
        "id": "EFet8hc-hKz7",
        "outputId": "77dda008-7247-47d8-b639-5e2a3c5a25b4"
      },
      "outputs": [
        {
          "data": {
            "text/plain": [
              "GaussianNB()"
            ]
          },
          "execution_count": 31,
          "metadata": {},
          "output_type": "execute_result"
        }
      ],
      "source": [
        "# instantiate the Naive Bayes model\n",
        "gnb = GaussianNB()\n",
        "\n",
        "# fit the training set into the model\n",
        "gnb.fit(X_train_svd, y_train)"
      ]
    },
    {
      "cell_type": "code",
      "execution_count": null,
      "metadata": {
        "colab": {
          "base_uri": "https://localhost:8080/"
        },
        "id": "gBCNVA_rhPH9",
        "outputId": "871670b5-63d0-425a-f5bf-6eb0e2197679"
      },
      "outputs": [
        {
          "data": {
            "text/plain": [
              "array([0, 1])"
            ]
          },
          "execution_count": 32,
          "metadata": {},
          "output_type": "execute_result"
        }
      ],
      "source": [
        "gnb.classes_"
      ]
    },
    {
      "cell_type": "code",
      "execution_count": null,
      "metadata": {
        "colab": {
          "base_uri": "https://localhost:8080/"
        },
        "id": "tbC1hg2EhShI",
        "outputId": "a2c45b39-26fa-4b0c-9b69-1eb30b02fd6f"
      },
      "outputs": [
        {
          "data": {
            "text/plain": [
              "array([[9.99999999e-01, 1.23986027e-09],\n",
              "       [9.99999999e-01, 1.23986027e-09],\n",
              "       [9.99999999e-01, 1.23986027e-09],\n",
              "       ...,\n",
              "       [9.99999999e-01, 1.23986027e-09],\n",
              "       [9.99999999e-01, 1.23986027e-09],\n",
              "       [9.99999999e-01, 1.23986027e-09]])"
            ]
          },
          "execution_count": 33,
          "metadata": {},
          "output_type": "execute_result"
        }
      ],
      "source": [
        "gnb.predict_proba(X_train_svd)"
      ]
    },
    {
      "cell_type": "code",
      "execution_count": null,
      "metadata": {
        "colab": {
          "base_uri": "https://localhost:8080/"
        },
        "id": "HbdSPuzhhUep",
        "outputId": "2657dcf4-7d50-4869-91f1-5b8c090ddfee"
      },
      "outputs": [
        {
          "data": {
            "text/plain": [
              "array([[9.99999999e-01, 1.23986027e-09],\n",
              "       [9.99999999e-01, 1.23986027e-09],\n",
              "       [9.99999999e-01, 1.23986027e-09],\n",
              "       ...,\n",
              "       [9.99999999e-01, 1.23986027e-09],\n",
              "       [9.99999999e-01, 1.23986027e-09],\n",
              "       [9.99999999e-01, 1.23986027e-09]])"
            ]
          },
          "execution_count": 34,
          "metadata": {},
          "output_type": "execute_result"
        }
      ],
      "source": [
        "gnb.predict_proba(X_test_svd)"
      ]
    },
    {
      "cell_type": "code",
      "execution_count": null,
      "metadata": {
        "colab": {
          "base_uri": "https://localhost:8080/"
        },
        "id": "zSilRRp8hWZE",
        "outputId": "fc9d1c3a-cad1-490b-911d-56a536426061"
      },
      "outputs": [
        {
          "data": {
            "text/plain": [
              "array([0, 0, 0, ..., 0, 0, 0])"
            ]
          },
          "execution_count": 35,
          "metadata": {},
          "output_type": "execute_result"
        }
      ],
      "source": [
        "gnb.predict(X_test_svd)"
      ]
    },
    {
      "cell_type": "code",
      "execution_count": null,
      "metadata": {
        "colab": {
          "base_uri": "https://localhost:8080/",
          "height": 333
        },
        "id": "SBXRcqrghZMu",
        "outputId": "c43454e7-0294-4cc5-9570-d74d68802776"
      },
      "outputs": [
        {
          "name": "stderr",
          "output_type": "stream",
          "text": [
            "/usr/local/lib/python3.7/dist-packages/sklearn/utils/deprecation.py:87: FutureWarning: Function plot_confusion_matrix is deprecated; Function `plot_confusion_matrix` is deprecated in 1.0 and will be removed in 1.2. Use one of the class methods: ConfusionMatrixDisplay.from_predictions or ConfusionMatrixDisplay.from_estimator.\n",
            "  warnings.warn(msg, category=FutureWarning)\n"
          ]
        },
        {
          "data": {
            "image/png": "[encoded data removed]",
            "text/plain": [
              "<Figure size 432x288 with 2 Axes>"
            ]
          },
          "metadata": {},
          "output_type": "display_data"
        }
      ],
      "source": [
        "# the confusion matrix shows that the baseline model performed pretty poorly. The accuracy of 0.5043 confirms that.\n",
        "plot_confusion_matrix(gnb, X_test_svd, y_test);"
      ]
    },
    {
      "cell_type": "code",
      "execution_count": null,
      "metadata": {
        "colab": {
          "base_uri": "https://localhost:8080/"
        },
        "id": "Bu50I7BihcY7",
        "outputId": "0add1e60-467f-4cb5-bbdf-88bd10226dbb"
      },
      "outputs": [
        {
          "data": {
            "text/plain": [
              "0.5043333333333333"
            ]
          },
          "execution_count": 37,
          "metadata": {},
          "output_type": "execute_result"
        }
      ],
      "source": [
        "# the accuracy score\n",
        "gnb.score(X_test_svd, y_test)"
      ]
    },
    {
      "cell_type": "markdown",
      "source": [
        "# Prediction Models\n",
        " I decided to try several classification models to see which one would perform better.\n",
        " These are the ones that I tried:\n",
        " Logistic Regression,\n",
        " Decision Tree Classifier,\n",
        " Rendom Forest Classifier, and \n",
        " Neural Networks"
      ],
      "metadata": {
        "id": "w85hZ9RPx_8g"
      }
    },
    {
      "cell_type": "markdown",
      "metadata": {
        "id": "KwvzqD8vhjJr"
      },
      "source": [
        "## Logistic Regression\n"
      ]
    },
    {
      "cell_type": "code",
      "execution_count": null,
      "metadata": {
        "colab": {
          "base_uri": "https://localhost:8080/",
          "height": 350
        },
        "id": "WuFSxV-fhlGb",
        "outputId": "1ac96163-fd5d-4a1b-c98c-19d2998e1857"
      },
      "outputs": [
        {
          "name": "stdout",
          "output_type": "stream",
          "text": [
            "0.511550505050505\n"
          ]
        },
        {
          "name": "stderr",
          "output_type": "stream",
          "text": [
            "/usr/local/lib/python3.7/dist-packages/sklearn/utils/deprecation.py:87: FutureWarning: Function plot_confusion_matrix is deprecated; Function `plot_confusion_matrix` is deprecated in 1.0 and will be removed in 1.2. Use one of the class methods: ConfusionMatrixDisplay.from_predictions or ConfusionMatrixDisplay.from_estimator.\n",
            "  warnings.warn(msg, category=FutureWarning)\n"
          ]
        },
        {
          "data": {
            "image/png": "[encoded data removed]",
            "text/plain": [
              "<Figure size 432x288 with 2 Axes>"
            ]
          },
          "metadata": {},
          "output_type": "display_data"
        }
      ],
      "source": [
        "# instantiate the logistic regression model\n",
        "lrg = LogisticRegression()\n",
        "# fit the training set into the model\n",
        "lrg.fit(X_train_svd, y_train)\n",
        "# print the accuracy score\n",
        "print(lrg.score(X_test_svd, y_test))\n",
        "# see the confusion matrix\n",
        "plot_confusion_matrix(lrg, X_test_svd, y_test);"
      ]
    },
    {
      "cell_type": "markdown",
      "metadata": {
        "id": "-UjfU9Y_hwxP"
      },
      "source": [
        "## Decision Tree Classifier"
      ]
    },
    {
      "cell_type": "code",
      "execution_count": null,
      "metadata": {
        "colab": {
          "background_save": true
        },
        "id": "Y2xWMTN8h17U",
        "outputId": "f7434366-59c6-4934-e5ed-65a53ded5801"
      },
      "outputs": [
        {
          "data": {
            "text/plain": [
              "0.5134343434343435"
            ]
          },
          "execution_count": null,
          "metadata": {},
          "output_type": "execute_result"
        }
      ],
      "source": [
        "# instantiate the decision tree model \n",
        "dec_tree = DecisionTreeClassifier(random_state = 42)\n",
        "# fit the training set into the model\n",
        "dec_tree.fit(X_train_svd, y_train)\n",
        "# print out the accuracy score\n",
        "dec_tree.score(X_test_svd, y_test)"
      ]
    },
    {
      "cell_type": "code",
      "execution_count": null,
      "metadata": {
        "colab": {
          "base_uri": "https://localhost:8080/",
          "height": 333
        },
        "id": "jZy1hRuDh6Nr",
        "outputId": "07bfe648-768a-4571-8e3a-a8a68122b6c3"
      },
      "outputs": [
        {
          "name": "stderr",
          "output_type": "stream",
          "text": [
            "/usr/local/lib/python3.7/dist-packages/sklearn/utils/deprecation.py:87: FutureWarning: Function plot_confusion_matrix is deprecated; Function `plot_confusion_matrix` is deprecated in 1.0 and will be removed in 1.2. Use one of the class methods: ConfusionMatrixDisplay.from_predictions or ConfusionMatrixDisplay.from_estimator.\n",
            "  warnings.warn(msg, category=FutureWarning)\n"
          ]
        },
        {
          "data": {
            "image/png": "[encoded data removed]",
            "text/plain": [
              "<Figure size 432x288 with 2 Axes>"
            ]
          },
          "metadata": {},
          "output_type": "display_data"
        }
      ],
      "source": [
        "# see the confusion matrix\n",
        "plot_confusion_matrix(dec_tree, X_test_svd, y_test);"
      ]
    },
    {
      "cell_type": "markdown",
      "metadata": {
        "id": "H44cU8-Vh_n-"
      },
      "source": [
        "## Random Forest Classifier"
      ]
    },
    {
      "cell_type": "code",
      "execution_count": 18,
      "metadata": {
        "id": "wFeVHQNbiCM0"
      },
      "outputs": [],
      "source": [
        "# create an instance of Random Forest Classifier\n",
        "random_forest = RandomForestClassifier(random_state = 42)"
      ]
    },
    {
      "cell_type": "code",
      "execution_count": 22,
      "metadata": {
        "colab": {
          "base_uri": "https://localhost:8080/"
        },
        "id": "7nxjlnuHiEfW",
        "outputId": "eca1b871-f4c0-4dd7-90e0-efa8d7cc2509"
      },
      "outputs": [
        {
          "output_type": "execute_result",
          "data": {
            "text/plain": [
              "RandomForestClassifier(random_state=42)"
            ]
          },
          "metadata": {},
          "execution_count": 22
        }
      ],
      "source": [
        "# fit the training set into the model\n",
        "random_forest.fit(X_train_svd,y_train)"
      ]
    },
    {
      "cell_type": "code",
      "execution_count": 23,
      "metadata": {
        "colab": {
          "base_uri": "https://localhost:8080/"
        },
        "id": "rqG97I78iGWs",
        "outputId": "d7d92db2-3a66-4363-9fb3-b35fe6ea7915"
      },
      "outputs": [
        {
          "output_type": "execute_result",
          "data": {
            "text/plain": [
              "0.5142020202020202"
            ]
          },
          "metadata": {},
          "execution_count": 23
        }
      ],
      "source": [
        "# print out the accuracy score\n",
        "random_forest.score(X_test_svd, y_test)"
      ]
    },
    {
      "cell_type": "code",
      "execution_count": 25,
      "metadata": {
        "colab": {
          "base_uri": "https://localhost:8080/",
          "height": 333
        },
        "id": "HIOH5du8iIRJ",
        "outputId": "4d85d44c-44ad-4597-c912-de25ec2bff33"
      },
      "outputs": [
        {
          "output_type": "stream",
          "name": "stderr",
          "text": [
            "/usr/local/lib/python3.7/dist-packages/sklearn/utils/deprecation.py:87: FutureWarning: Function plot_confusion_matrix is deprecated; Function `plot_confusion_matrix` is deprecated in 1.0 and will be removed in 1.2. Use one of the class methods: ConfusionMatrixDisplay.from_predictions or ConfusionMatrixDisplay.from_estimator.\n",
            "  warnings.warn(msg, category=FutureWarning)\n"
          ]
        },
        {
          "output_type": "display_data",
          "data": {
            "image/png": "[encoded data removed]",
            "text/plain": [
              "<Figure size 432x288 with 2 Axes>"
            ]
          },
          "metadata": {
            "needs_background": "light"
          }
        }
      ],
      "source": [
        "# see the confusion matrix\n",
        "plot_confusion_matrix(random_forest, X_test_svd, y_test);"
      ]
    },
    {
      "cell_type": "markdown",
      "source": [
        "# Conclusion after running the models before tuning the hyperparameters:\n",
        "\n",
        "The accuracy scores that I achieved after running the models were all either equal to or just slightly higher than 50 percent. My next step is to tune the hyperparameters using GridSearch CV and see if that improves the scores. \n",
        "\n"
      ],
      "metadata": {
        "id": "YQUJzl8Gytpk"
      }
    },
    {
      "cell_type": "markdown",
      "metadata": {
        "id": "koTntlEDiNdU"
      },
      "source": [
        "## Grid Search on Logistic Regression"
      ]
    },
    {
      "cell_type": "code",
      "execution_count": null,
      "metadata": {
        "id": "ly86EVMDiRmV"
      },
      "outputs": [],
      "source": [
        "# specifying what hyperparameters and which values of those hyperparameters I want the Grid Search to run on.\n",
        "grid={\"C\": [0.001, 0.01, 0.1, 1, 10, 100, 1000], \"penalty\":[\"l2\"]}"
      ]
    },
    {
      "cell_type": "code",
      "execution_count": null,
      "metadata": {
        "id": "jLLkJ0SSiVun"
      },
      "outputs": [],
      "source": [
        "# the previously created instance of Logistic Regresion will be used as the estimator in this Grid Search.\n",
        "logreg_cv=GridSearchCV(estimator = lrg,param_grid = grid,cv=10, verbose = 1)"
      ]
    },
    {
      "cell_type": "code",
      "execution_count": null,
      "metadata": {
        "colab": {
          "base_uri": "https://localhost:8080/"
        },
        "id": "cnaI-Zi_iXgt",
        "outputId": "852dbeb8-3387-4b68-c850-bcefa40944b0"
      },
      "outputs": [
        {
          "name": "stdout",
          "output_type": "stream",
          "text": [
            "Fitting 10 folds for each of 7 candidates, totalling 70 fits\n"
          ]
        },
        {
          "data": {
            "text/plain": [
              "GridSearchCV(cv=10, estimator=LogisticRegression(),\n",
              "             param_grid={'C': [0.001, 0.01, 0.1, 1, 10, 100, 1000],\n",
              "                         'penalty': ['l2']},\n",
              "             verbose=1)"
            ]
          },
          "execution_count": 44,
          "metadata": {},
          "output_type": "execute_result"
        }
      ],
      "source": [
        "# fit the training set into the Grid Search instance. \n",
        "logreg_cv.fit(X_train_svd,y_train)"
      ]
    },
    {
      "cell_type": "code",
      "execution_count": null,
      "metadata": {
        "colab": {
          "base_uri": "https://localhost:8080/"
        },
        "id": "CDQQn6VGiZkw",
        "outputId": "d63b2fdb-6f0c-482f-d8b6-5230e988d006"
      },
      "outputs": [
        {
          "name": "stdout",
          "output_type": "stream",
          "text": [
            "tuned hyperparameters :(best parameters)  {'C': 0.01, 'penalty': 'l2'}\n",
            "accuracy : 0.5130746268656716\n"
          ]
        }
      ],
      "source": [
        "print(\"tuned hyperparameters :(best parameters) \",logreg_cv.best_params_)\n",
        "print(\"accuracy :\",logreg_cv.best_score_)"
      ]
    },
    {
      "cell_type": "markdown",
      "source": [
        "## Results of tuning the hyperparameters for Logistic Regression:\n",
        "Unofortunately the model's performance improved to a very insignificant degree ( by only 0.15 percent).\n"
      ],
      "metadata": {
        "id": "R6avI6ix2cDD"
      }
    },
    {
      "cell_type": "markdown",
      "metadata": {
        "id": "dvK3B8ceO0G0"
      },
      "source": [
        "## Grid Search on Decision Tree\n"
      ]
    },
    {
      "cell_type": "code",
      "execution_count": null,
      "metadata": {
        "colab": {
          "base_uri": "https://localhost:8080/"
        },
        "id": "Z08p299Ocemd",
        "outputId": "1126a03a-366f-418f-e48d-d963d9ed04d9"
      },
      "outputs": [
        {
          "name": "stdout",
          "output_type": "stream",
          "text": [
            "CPU times: user 2 µs, sys: 0 ns, total: 2 µs\n",
            "Wall time: 5.48 µs\n"
          ]
        },
        {
          "data": {
            "text/plain": [
              "0.5156363636363637"
            ]
          },
          "execution_count": 46,
          "metadata": {},
          "output_type": "execute_result"
        }
      ],
      "source": [
        "%time\n",
        "dec_tree = DecisionTreeClassifier(random_state = 42)\n",
        "dec_tree.fit(X_train_svd, y_train)\n",
        "dec_tree.score(X_test_svd, y_test)"
      ]
    },
    {
      "cell_type": "code",
      "execution_count": null,
      "metadata": {
        "id": "GeqShVqMOi6u"
      },
      "outputs": [],
      "source": [
        "grid = {\n",
        "    'max_depth': [2,3,5,6,7,8],\n",
        "    'min_samples_leaf': [2,4,6,8,10]\n",
        "}"
      ]
    },
    {
      "cell_type": "code",
      "execution_count": null,
      "metadata": {
        "id": "thknfs4hchXc"
      },
      "outputs": [],
      "source": [
        "dec_tree_cv = GridSearchCV(estimator = dec_tree, \n",
        "                            param_grid = grid, \n",
        "                            cv = 4, verbose = 1, scoring = \"f1\")"
      ]
    },
    {
      "cell_type": "code",
      "execution_count": null,
      "metadata": {
        "colab": {
          "base_uri": "https://localhost:8080/"
        },
        "id": "OwmBiuKsd41n",
        "outputId": "ff131add-87e9-4b33-ee82-aa857b053668"
      },
      "outputs": [
        {
          "name": "stdout",
          "output_type": "stream",
          "text": [
            "Fitting 4 folds for each of 30 candidates, totalling 120 fits\n"
          ]
        },
        {
          "data": {
            "text/plain": [
              "GridSearchCV(cv=4, estimator=DecisionTreeClassifier(random_state=42),\n",
              "             param_grid={'max_depth': [2, 3, 5, 6, 7, 8],\n",
              "                         'min_samples_leaf': [2, 4, 6, 8, 10]},\n",
              "             scoring='f1', verbose=1)"
            ]
          },
          "execution_count": 49,
          "metadata": {},
          "output_type": "execute_result"
        }
      ],
      "source": [
        "dec_tree_cv.fit(X_train_svd,y_train)"
      ]
    },
    {
      "cell_type": "code",
      "execution_count": null,
      "metadata": {
        "colab": {
          "base_uri": "https://localhost:8080/"
        },
        "id": "2C6QqhqBd5sN",
        "outputId": "429840f7-0d95-40a4-f56a-916e1a9d7a1a"
      },
      "outputs": [
        {
          "name": "stdout",
          "output_type": "stream",
          "text": [
            "tuned hyperparameters :(best parameters)  {'max_depth': 7, 'min_samples_leaf': 4}\n",
            "accuracy : 0.5309807998855914\n"
          ]
        }
      ],
      "source": [
        "print(\"tuned hyperparameters :(best parameters) \",dec_tree_cv.best_params_)\n",
        "print(\"accuracy :\",dec_tree_cv.best_score_)"
      ]
    },
    {
      "cell_type": "code",
      "execution_count": null,
      "metadata": {
        "colab": {
          "base_uri": "https://localhost:8080/"
        },
        "id": "9cINbeZ2iuMM",
        "outputId": "983f7ef9-3281-40bc-a09d-8957f2c95b7c"
      },
      "outputs": [
        {
          "data": {
            "text/plain": [
              "sklearn.model_selection._search.GridSearchCV"
            ]
          },
          "execution_count": 51,
          "metadata": {},
          "output_type": "execute_result"
        }
      ],
      "source": [
        "type(dec_tree_cv)"
      ]
    },
    {
      "cell_type": "markdown",
      "metadata": {
        "id": "EfBU3D5N_50k"
      },
      "source": [
        "## Grid Search on Random Forest"
      ]
    },
    {
      "cell_type": "code",
      "execution_count": 19,
      "metadata": {
        "id": "KSpOemHwAKi1"
      },
      "outputs": [],
      "source": [
        "grid = {\n",
        " 'max_depth': [1,2,3,5,7,9],\n",
        " 'max_features': ['sqrt','log2'],\n",
        " 'min_samples_leaf': [1, 2, 4],\n",
        " 'min_samples_split': [2, 5, 10],\n",
        " 'n_estimators': [200, 400, 600, 800, 1000]}"
      ]
    },
    {
      "cell_type": "code",
      "execution_count": 20,
      "metadata": {
        "id": "sUFa-dKnAVgf"
      },
      "outputs": [],
      "source": [
        "random_forest_cv = GridSearchCV(estimator = random_forest, param_grid = grid, cv = 4,verbose = 1)"
      ]
    },
    {
      "cell_type": "code",
      "execution_count": null,
      "metadata": {
        "colab": {
          "base_uri": "https://localhost:8080/"
        },
        "id": "A1LgSO4EFEs5",
        "outputId": "64957223-696d-4fc0-eec1-d6bb7d6bb18b"
      },
      "outputs": [
        {
          "metadata": {
            "tags": null
          },
          "name": "stdout",
          "output_type": "stream",
          "text": [
            "Fitting 4 folds for each of 540 candidates, totalling 2160 fits\n"
          ]
        }
      ],
      "source": [
        "random_forest_cv.fit(X_train_svd,y_train)"
      ]
    },
    {
      "cell_type": "code",
      "execution_count": null,
      "metadata": {
        "id": "VW-1IhBkAaGF"
      },
      "outputs": [],
      "source": [
        "print(\"tuned hyperparameters :(best parameters) \",random_forest_cv.best_params_)\n",
        "print(\"accuracy :\",random_forest_cv.best_score_)"
      ]
    },
    {
      "cell_type": "markdown",
      "metadata": {
        "id": "2WiARnN9O1q_"
      },
      "source": [
        "## Neural Networks First Simple Model"
      ]
    },
    {
      "cell_type": "code",
      "execution_count": null,
      "metadata": {
        "id": "XQNZ-PDRSdTb"
      },
      "outputs": [],
      "source": [
        "# define the keras model\n",
        "model = Sequential()\n",
        "model.add(Dense(12, input_dim=300, activation='relu'))\n",
        "model.add(Dense(8, activation='relu'))\n",
        "model.add(Dense(1, activation='sigmoid'))"
      ]
    },
    {
      "cell_type": "code",
      "execution_count": null,
      "metadata": {
        "id": "f5iBcpD9ShKx"
      },
      "outputs": [],
      "source": [
        "# compile the keras model\n",
        "model.compile(loss='binary_crossentropy', optimizer='adam', metrics=['accuracy'])"
      ]
    },
    {
      "cell_type": "code",
      "execution_count": null,
      "metadata": {
        "colab": {
          "base_uri": "https://localhost:8080/"
        },
        "id": "OqyY6ruRVKLM",
        "outputId": "bd77c4ae-7097-4833-d751-c5a1767c6d24"
      },
      "outputs": [
        {
          "name": "stdout",
          "output_type": "stream",
          "text": [
            "Epoch 1/150\n",
            "40200/40200 [==============================] - 101s 2ms/step - loss: 0.6928 - accuracy: 0.5014\n",
            "Epoch 2/150\n",
            "40200/40200 [==============================] - 99s 2ms/step - loss: 0.6921 - accuracy: 0.5030\n",
            "Epoch 3/150\n",
            "40200/40200 [==============================] - 99s 2ms/step - loss: 0.6918 - accuracy: 0.5036\n",
            "Epoch 4/150\n",
            "40200/40200 [==============================] - 98s 2ms/step - loss: 0.6916 - accuracy: 0.5053\n",
            "Epoch 5/150\n",
            "40200/40200 [==============================] - 98s 2ms/step - loss: 0.6915 - accuracy: 0.5041\n",
            "Epoch 6/150\n",
            "40200/40200 [==============================] - 98s 2ms/step - loss: 0.6913 - accuracy: 0.5055\n",
            "Epoch 7/150\n",
            "40200/40200 [==============================] - 97s 2ms/step - loss: 0.6912 - accuracy: 0.5062\n",
            "Epoch 8/150\n",
            "40200/40200 [==============================] - 97s 2ms/step - loss: 0.6910 - accuracy: 0.5076\n",
            "Epoch 9/150\n",
            "40200/40200 [==============================] - 97s 2ms/step - loss: 0.6910 - accuracy: 0.5069\n",
            "Epoch 10/150\n",
            "40200/40200 [==============================] - 96s 2ms/step - loss: 0.6903 - accuracy: 0.5131\n",
            "Epoch 11/150\n",
            "40200/40200 [==============================] - 96s 2ms/step - loss: 0.6897 - accuracy: 0.5148\n",
            "Epoch 12/150\n",
            "40200/40200 [==============================] - 96s 2ms/step - loss: 0.6894 - accuracy: 0.5155\n",
            "Epoch 13/150\n",
            "40200/40200 [==============================] - 96s 2ms/step - loss: 0.6892 - accuracy: 0.5159\n",
            "Epoch 14/150\n",
            "40200/40200 [==============================] - 95s 2ms/step - loss: 0.6889 - accuracy: 0.5167\n",
            "Epoch 15/150\n",
            "40200/40200 [==============================] - 95s 2ms/step - loss: 0.6887 - accuracy: 0.5170\n",
            "Epoch 16/150\n",
            "40200/40200 [==============================] - 98s 2ms/step - loss: 0.6886 - accuracy: 0.5183\n",
            "Epoch 17/150\n",
            "40200/40200 [==============================] - 96s 2ms/step - loss: 0.6884 - accuracy: 0.5187\n",
            "Epoch 18/150\n",
            "40200/40200 [==============================] - 95s 2ms/step - loss: 0.6882 - accuracy: 0.5177\n",
            "Epoch 19/150\n",
            "40200/40200 [==============================] - 96s 2ms/step - loss: 0.6881 - accuracy: 0.5194\n",
            "Epoch 20/150\n",
            "40200/40200 [==============================] - 95s 2ms/step - loss: 0.6880 - accuracy: 0.5197\n",
            "Epoch 21/150\n",
            "40200/40200 [==============================] - 95s 2ms/step - loss: 0.6879 - accuracy: 0.5200\n",
            "Epoch 22/150\n",
            "40200/40200 [==============================] - 95s 2ms/step - loss: 0.6878 - accuracy: 0.5192\n",
            "Epoch 23/150\n",
            "40200/40200 [==============================] - 95s 2ms/step - loss: 0.6876 - accuracy: 0.5192\n",
            "Epoch 24/150\n",
            "40200/40200 [==============================] - 94s 2ms/step - loss: 0.6875 - accuracy: 0.5196\n",
            "Epoch 25/150\n",
            "40200/40200 [==============================] - 94s 2ms/step - loss: 0.6874 - accuracy: 0.5203\n",
            "Epoch 26/150\n",
            "40200/40200 [==============================] - 94s 2ms/step - loss: 0.6874 - accuracy: 0.5198\n",
            "Epoch 27/150\n",
            "40200/40200 [==============================] - 94s 2ms/step - loss: 0.6872 - accuracy: 0.5201\n",
            "Epoch 28/150\n",
            "40200/40200 [==============================] - 94s 2ms/step - loss: 0.6871 - accuracy: 0.5208\n",
            "Epoch 29/150\n",
            "40200/40200 [==============================] - 94s 2ms/step - loss: 0.6871 - accuracy: 0.5199\n",
            "Epoch 30/150\n",
            "40200/40200 [==============================] - 94s 2ms/step - loss: 0.6870 - accuracy: 0.5196\n",
            "Epoch 31/150\n",
            "40200/40200 [==============================] - 94s 2ms/step - loss: 0.6869 - accuracy: 0.5207\n",
            "Epoch 32/150\n",
            "40200/40200 [==============================] - 94s 2ms/step - loss: 0.6869 - accuracy: 0.5202\n",
            "Epoch 33/150\n",
            "40200/40200 [==============================] - 94s 2ms/step - loss: 0.6867 - accuracy: 0.5212\n",
            "Epoch 34/150\n",
            "40200/40200 [==============================] - 94s 2ms/step - loss: 0.6867 - accuracy: 0.5223\n",
            "Epoch 35/150\n",
            "40200/40200 [==============================] - 94s 2ms/step - loss: 0.6866 - accuracy: 0.5224\n",
            "Epoch 36/150\n",
            "40200/40200 [==============================] - 94s 2ms/step - loss: 0.6865 - accuracy: 0.5210\n",
            "Epoch 37/150\n",
            "40200/40200 [==============================] - 94s 2ms/step - loss: 0.6865 - accuracy: 0.5215\n",
            "Epoch 38/150\n",
            "40200/40200 [==============================] - 93s 2ms/step - loss: 0.6864 - accuracy: 0.5217\n",
            "Epoch 39/150\n",
            "40200/40200 [==============================] - 94s 2ms/step - loss: 0.6864 - accuracy: 0.5232\n",
            "Epoch 40/150\n",
            "40200/40200 [==============================] - 93s 2ms/step - loss: 0.6863 - accuracy: 0.5228\n",
            "Epoch 41/150\n",
            "40200/40200 [==============================] - 93s 2ms/step - loss: 0.6862 - accuracy: 0.5222\n",
            "Epoch 42/150\n",
            "40200/40200 [==============================] - 94s 2ms/step - loss: 0.6862 - accuracy: 0.5233\n",
            "Epoch 43/150\n",
            "40200/40200 [==============================] - 93s 2ms/step - loss: 0.6861 - accuracy: 0.5227\n",
            "Epoch 44/150\n",
            "40200/40200 [==============================] - 93s 2ms/step - loss: 0.6861 - accuracy: 0.5225\n",
            "Epoch 45/150\n",
            "40200/40200 [==============================] - 94s 2ms/step - loss: 0.6860 - accuracy: 0.5233\n",
            "Epoch 46/150\n",
            "40200/40200 [==============================] - 94s 2ms/step - loss: 0.6859 - accuracy: 0.5234\n",
            "Epoch 47/150\n",
            "40200/40200 [==============================] - 96s 2ms/step - loss: 0.6859 - accuracy: 0.5223\n",
            "Epoch 48/150\n",
            "40200/40200 [==============================] - 94s 2ms/step - loss: 0.6859 - accuracy: 0.5225\n",
            "Epoch 49/150\n",
            "40200/40200 [==============================] - 95s 2ms/step - loss: 0.6858 - accuracy: 0.5227\n",
            "Epoch 50/150\n",
            "40200/40200 [==============================] - 93s 2ms/step - loss: 0.6858 - accuracy: 0.5225\n",
            "Epoch 51/150\n",
            "40200/40200 [==============================] - 94s 2ms/step - loss: 0.6858 - accuracy: 0.5231\n",
            "Epoch 52/150\n",
            "40200/40200 [==============================] - 95s 2ms/step - loss: 0.6857 - accuracy: 0.5229\n",
            "Epoch 53/150\n",
            "40200/40200 [==============================] - 94s 2ms/step - loss: 0.6856 - accuracy: 0.5235\n",
            "Epoch 54/150\n",
            "40200/40200 [==============================] - 94s 2ms/step - loss: 0.6856 - accuracy: 0.5229\n",
            "Epoch 55/150\n",
            "40200/40200 [==============================] - 94s 2ms/step - loss: 0.6856 - accuracy: 0.5247\n",
            "Epoch 56/150\n",
            "40200/40200 [==============================] - 93s 2ms/step - loss: 0.6856 - accuracy: 0.5235\n",
            "Epoch 57/150\n",
            "40200/40200 [==============================] - 93s 2ms/step - loss: 0.6855 - accuracy: 0.5237\n",
            "Epoch 58/150\n",
            "40200/40200 [==============================] - 94s 2ms/step - loss: 0.6855 - accuracy: 0.5241\n",
            "Epoch 59/150\n",
            "40200/40200 [==============================] - 93s 2ms/step - loss: 0.6855 - accuracy: 0.5236\n",
            "Epoch 60/150\n",
            "40200/40200 [==============================] - 94s 2ms/step - loss: 0.6854 - accuracy: 0.5240\n",
            "Epoch 61/150\n",
            "40200/40200 [==============================] - 93s 2ms/step - loss: 0.6854 - accuracy: 0.5241\n",
            "Epoch 62/150\n",
            "40200/40200 [==============================] - 94s 2ms/step - loss: 0.6854 - accuracy: 0.5241\n",
            "Epoch 63/150\n",
            "40200/40200 [==============================] - 93s 2ms/step - loss: 0.6853 - accuracy: 0.5242\n",
            "Epoch 64/150\n",
            "40200/40200 [==============================] - 93s 2ms/step - loss: 0.6853 - accuracy: 0.5251\n",
            "Epoch 65/150\n",
            "40200/40200 [==============================] - 94s 2ms/step - loss: 0.6852 - accuracy: 0.5253\n",
            "Epoch 66/150\n",
            "40200/40200 [==============================] - 94s 2ms/step - loss: 0.6852 - accuracy: 0.5246\n",
            "Epoch 67/150\n",
            "40200/40200 [==============================] - 94s 2ms/step - loss: 0.6852 - accuracy: 0.5245\n",
            "Epoch 68/150\n",
            "40200/40200 [==============================] - 94s 2ms/step - loss: 0.6852 - accuracy: 0.5246\n",
            "Epoch 69/150\n",
            "40200/40200 [==============================] - 94s 2ms/step - loss: 0.6851 - accuracy: 0.5252\n",
            "Epoch 70/150\n",
            "40200/40200 [==============================] - 94s 2ms/step - loss: 0.6851 - accuracy: 0.5251\n",
            "Epoch 71/150\n",
            "40200/40200 [==============================] - 94s 2ms/step - loss: 0.6851 - accuracy: 0.5253\n",
            "Epoch 72/150\n",
            "40200/40200 [==============================] - 94s 2ms/step - loss: 0.6850 - accuracy: 0.5243\n",
            "Epoch 73/150\n",
            "40200/40200 [==============================] - 93s 2ms/step - loss: 0.6850 - accuracy: 0.5240\n",
            "Epoch 74/150\n",
            "40200/40200 [==============================] - 94s 2ms/step - loss: 0.6850 - accuracy: 0.5244\n",
            "Epoch 75/150\n",
            "40200/40200 [==============================] - 94s 2ms/step - loss: 0.6850 - accuracy: 0.5238\n",
            "Epoch 76/150\n",
            "40200/40200 [==============================] - 94s 2ms/step - loss: 0.6850 - accuracy: 0.5249\n",
            "Epoch 77/150\n",
            "40200/40200 [==============================] - 93s 2ms/step - loss: 0.6850 - accuracy: 0.5256\n",
            "Epoch 78/150\n",
            "40200/40200 [==============================] - 94s 2ms/step - loss: 0.6849 - accuracy: 0.5248\n",
            "Epoch 79/150\n",
            "40200/40200 [==============================] - 94s 2ms/step - loss: 0.6849 - accuracy: 0.5261\n",
            "Epoch 80/150\n",
            "40200/40200 [==============================] - 94s 2ms/step - loss: 0.6849 - accuracy: 0.5249\n",
            "Epoch 81/150\n",
            "40200/40200 [==============================] - 94s 2ms/step - loss: 0.6848 - accuracy: 0.5245\n",
            "Epoch 82/150\n",
            "40200/40200 [==============================] - 94s 2ms/step - loss: 0.6849 - accuracy: 0.5256\n",
            "Epoch 83/150\n",
            "40200/40200 [==============================] - 94s 2ms/step - loss: 0.6848 - accuracy: 0.5254\n",
            "Epoch 84/150\n",
            "40200/40200 [==============================] - 94s 2ms/step - loss: 0.6848 - accuracy: 0.5252\n",
            "Epoch 85/150\n",
            "40200/40200 [==============================] - 95s 2ms/step - loss: 0.6848 - accuracy: 0.5257\n",
            "Epoch 86/150\n",
            "40200/40200 [==============================] - 94s 2ms/step - loss: 0.6848 - accuracy: 0.5245\n",
            "Epoch 87/150\n",
            "40200/40200 [==============================] - 94s 2ms/step - loss: 0.6848 - accuracy: 0.5246\n",
            "Epoch 88/150\n",
            "40200/40200 [==============================] - 94s 2ms/step - loss: 0.6847 - accuracy: 0.5260\n",
            "Epoch 89/150\n",
            "40200/40200 [==============================] - 94s 2ms/step - loss: 0.6847 - accuracy: 0.5264\n",
            "Epoch 90/150\n",
            "40200/40200 [==============================] - 94s 2ms/step - loss: 0.6847 - accuracy: 0.5252\n",
            "Epoch 91/150\n",
            "40200/40200 [==============================] - 94s 2ms/step - loss: 0.6846 - accuracy: 0.5246\n",
            "Epoch 92/150\n",
            "40200/40200 [==============================] - 94s 2ms/step - loss: 0.6846 - accuracy: 0.5248\n",
            "Epoch 93/150\n",
            "40200/40200 [==============================] - 94s 2ms/step - loss: 0.6846 - accuracy: 0.5256\n",
            "Epoch 94/150\n",
            "40200/40200 [==============================] - 93s 2ms/step - loss: 0.6846 - accuracy: 0.5261\n",
            "Epoch 95/150\n",
            "40200/40200 [==============================] - 94s 2ms/step - loss: 0.6846 - accuracy: 0.5252\n",
            "Epoch 96/150\n",
            "40200/40200 [==============================] - 93s 2ms/step - loss: 0.6846 - accuracy: 0.5260\n",
            "Epoch 97/150\n",
            "40200/40200 [==============================] - 93s 2ms/step - loss: 0.6846 - accuracy: 0.5260\n",
            "Epoch 98/150\n",
            "40200/40200 [==============================] - 94s 2ms/step - loss: 0.6845 - accuracy: 0.5255\n",
            "Epoch 99/150\n",
            "40200/40200 [==============================] - 93s 2ms/step - loss: 0.6845 - accuracy: 0.5251\n",
            "Epoch 100/150\n",
            "40200/40200 [==============================] - 93s 2ms/step - loss: 0.6846 - accuracy: 0.5255\n",
            "Epoch 101/150\n",
            "40200/40200 [==============================] - 93s 2ms/step - loss: 0.6845 - accuracy: 0.5258\n",
            "Epoch 102/150\n",
            "40200/40200 [==============================] - 93s 2ms/step - loss: 0.6845 - accuracy: 0.5264\n",
            "Epoch 103/150\n",
            "40200/40200 [==============================] - 93s 2ms/step - loss: 0.6845 - accuracy: 0.5265\n",
            "Epoch 104/150\n",
            "40200/40200 [==============================] - 95s 2ms/step - loss: 0.6845 - accuracy: 0.5259\n",
            "Epoch 105/150\n",
            "40200/40200 [==============================] - 95s 2ms/step - loss: 0.6845 - accuracy: 0.5254\n",
            "Epoch 106/150\n",
            "40200/40200 [==============================] - 94s 2ms/step - loss: 0.6844 - accuracy: 0.5276\n",
            "Epoch 107/150\n",
            "40200/40200 [==============================] - 94s 2ms/step - loss: 0.6844 - accuracy: 0.5253\n",
            "Epoch 108/150\n",
            "40200/40200 [==============================] - 95s 2ms/step - loss: 0.6844 - accuracy: 0.5269\n",
            "Epoch 109/150\n",
            "40200/40200 [==============================] - 94s 2ms/step - loss: 0.6845 - accuracy: 0.5251\n",
            "Epoch 110/150\n",
            "40200/40200 [==============================] - 94s 2ms/step - loss: 0.6843 - accuracy: 0.5258\n",
            "Epoch 111/150\n",
            "40200/40200 [==============================] - 94s 2ms/step - loss: 0.6844 - accuracy: 0.5273\n",
            "Epoch 112/150\n",
            "40200/40200 [==============================] - 94s 2ms/step - loss: 0.6843 - accuracy: 0.5266\n",
            "Epoch 113/150\n",
            "40200/40200 [==============================] - 94s 2ms/step - loss: 0.6843 - accuracy: 0.5263\n",
            "Epoch 114/150\n",
            "40200/40200 [==============================] - 94s 2ms/step - loss: 0.6843 - accuracy: 0.5274\n",
            "Epoch 115/150\n",
            "40200/40200 [==============================] - 94s 2ms/step - loss: 0.6843 - accuracy: 0.5258\n",
            "Epoch 116/150\n",
            "40200/40200 [==============================] - 94s 2ms/step - loss: 0.6842 - accuracy: 0.5262\n",
            "Epoch 117/150\n",
            "40200/40200 [==============================] - 94s 2ms/step - loss: 0.6842 - accuracy: 0.5269\n",
            "Epoch 118/150\n",
            "40200/40200 [==============================] - 94s 2ms/step - loss: 0.6842 - accuracy: 0.5265\n",
            "Epoch 119/150\n",
            "40200/40200 [==============================] - 94s 2ms/step - loss: 0.6843 - accuracy: 0.5260\n",
            "Epoch 120/150\n",
            "40200/40200 [==============================] - 94s 2ms/step - loss: 0.6842 - accuracy: 0.5260\n",
            "Epoch 121/150\n",
            "40200/40200 [==============================] - 94s 2ms/step - loss: 0.6842 - accuracy: 0.5267\n",
            "Epoch 122/150\n",
            "40200/40200 [==============================] - 94s 2ms/step - loss: 0.6842 - accuracy: 0.5259\n",
            "Epoch 123/150\n",
            "40200/40200 [==============================] - 93s 2ms/step - loss: 0.6842 - accuracy: 0.5261\n",
            "Epoch 124/150\n",
            "40200/40200 [==============================] - 93s 2ms/step - loss: 0.6841 - accuracy: 0.5263\n",
            "Epoch 125/150\n",
            "40200/40200 [==============================] - 94s 2ms/step - loss: 0.6842 - accuracy: 0.5258\n",
            "Epoch 126/150\n",
            "40200/40200 [==============================] - 94s 2ms/step - loss: 0.6841 - accuracy: 0.5267\n",
            "Epoch 127/150\n",
            "40200/40200 [==============================] - 94s 2ms/step - loss: 0.6841 - accuracy: 0.5256\n",
            "Epoch 128/150\n",
            "40200/40200 [==============================] - 97s 2ms/step - loss: 0.6841 - accuracy: 0.5261\n",
            "Epoch 129/150\n",
            "40200/40200 [==============================] - 95s 2ms/step - loss: 0.6841 - accuracy: 0.5263\n",
            "Epoch 130/150\n",
            "40200/40200 [==============================] - 95s 2ms/step - loss: 0.6841 - accuracy: 0.5271\n",
            "Epoch 131/150\n",
            "40200/40200 [==============================] - 95s 2ms/step - loss: 0.6841 - accuracy: 0.5256\n",
            "Epoch 132/150\n",
            "40200/40200 [==============================] - 94s 2ms/step - loss: 0.6841 - accuracy: 0.5261\n",
            "Epoch 133/150\n",
            "40200/40200 [==============================] - 94s 2ms/step - loss: 0.6841 - accuracy: 0.5267\n",
            "Epoch 134/150\n",
            "40200/40200 [==============================] - 95s 2ms/step - loss: 0.6840 - accuracy: 0.5278\n",
            "Epoch 135/150\n",
            "40200/40200 [==============================] - 96s 2ms/step - loss: 0.6840 - accuracy: 0.5269\n",
            "Epoch 136/150\n",
            "40200/40200 [==============================] - 94s 2ms/step - loss: 0.6840 - accuracy: 0.5270\n",
            "Epoch 137/150\n",
            "40200/40200 [==============================] - 95s 2ms/step - loss: 0.6839 - accuracy: 0.5277\n",
            "Epoch 138/150\n",
            "40200/40200 [==============================] - 95s 2ms/step - loss: 0.6840 - accuracy: 0.5260\n",
            "Epoch 139/150\n",
            "40200/40200 [==============================] - 94s 2ms/step - loss: 0.6840 - accuracy: 0.5265\n",
            "Epoch 140/150\n",
            "40200/40200 [==============================] - 94s 2ms/step - loss: 0.6840 - accuracy: 0.5265\n",
            "Epoch 141/150\n",
            "40200/40200 [==============================] - 94s 2ms/step - loss: 0.6839 - accuracy: 0.5273\n",
            "Epoch 142/150\n",
            "40200/40200 [==============================] - 94s 2ms/step - loss: 0.6839 - accuracy: 0.5265\n",
            "Epoch 143/150\n",
            "40200/40200 [==============================] - 94s 2ms/step - loss: 0.6839 - accuracy: 0.5276\n",
            "Epoch 144/150\n",
            " 9736/40200 [======>.......................] - ETA: 1:10 - loss: 0.6836 - accuracy: 0.5259"
          ]
        }
      ],
      "source": [
        "# fit the keras model on the dataset\n",
        "model.fit(X_train_svd, y_train, epochs=150, batch_size=10)"
      ]
    },
    {
      "cell_type": "code",
      "execution_count": null,
      "metadata": {
        "id": "AhU4gIK9WI2-"
      },
      "outputs": [],
      "source": [
        "# evaluate the keras model\n",
        "_, accuracy = model.evaluate(X, y)\n",
        "print('Accuracy: %.2f' % (accuracy*100))"
      ]
    },
    {
      "cell_type": "code",
      "execution_count": null,
      "metadata": {
        "id": "eqr5DgvZXimD"
      },
      "outputs": [],
      "source": [
        "# make class predictions with the model\n",
        "predictions = (model.predict(X_test_svd) > 0.5).astype(int)"
      ]
    },
    {
      "cell_type": "code",
      "execution_count": null,
      "metadata": {
        "id": "m_Dm5A1-X_Y5"
      },
      "outputs": [],
      "source": [
        "# summarize the first 5 cases\n",
        "for i in range(5):\n",
        "\tprint('%s => %d (expected %d)' % (X[i].tolist(), predictions[i], y[i]))"
      ]
    },
    {
      "cell_type": "markdown",
      "metadata": {
        "id": "aTPpljFHjfmr"
      },
      "source": [
        "# Unsupervised Learning. KMeans Clustering and Hierarchical Clustering. \n",
        "I wanted to check if the reaason why the models performed so poorly was because the target labels were not accurate. I figured that a good way to check would be to recreate my own labels using unsupervised learning models and rerun the models using those new labels and see if the performance improved. I used KMeans Clustering and Hierarchical clustering for creating new labels. With each model I tried creating first two then several clusters to see if the actual number of categories in the dataset was more than two. "
      ]
    },
    {
      "cell_type": "markdown",
      "source": [
        "## KMEANS Clustering"
      ],
      "metadata": {
        "id": "QUgDkAcD6PJl"
      }
    },
    {
      "cell_type": "code",
      "execution_count": 16,
      "metadata": {
        "id": "qT5LbowNjjiU"
      },
      "outputs": [],
      "source": [
        "# instantiate a KMEANS object with two clusters.\n",
        "kmeans = KMeans(n_clusters = 2, init = 'k-means++',n_init = 100, random_state = 42).fit(X_train_svd)"
      ]
    },
    {
      "cell_type": "code",
      "execution_count": 19,
      "metadata": {
        "id": "mlinESVdjlfC"
      },
      "outputs": [],
      "source": [
        "# check for optimal number of clusters\n",
        "Sum_of_squared_distances = []\n",
        "K = range(1,8)\n",
        "for k in K:\n",
        "    km = KMeans(n_clusters = k)\n",
        "    km = km.fit(X_train_svd)\n",
        "    Sum_of_squared_distances.append(km.inertia_)"
      ]
    },
    {
      "cell_type": "code",
      "execution_count": 20,
      "metadata": {
        "id": "vbWyf3wKjqO7",
        "colab": {
          "base_uri": "https://localhost:8080/",
          "height": 295
        },
        "outputId": "dc5f5a4e-d609-4bea-faf5-f66c39489c10"
      },
      "outputs": [
        {
          "output_type": "display_data",
          "data": {
            "image/png": "[encoded data removed]",
            "text/plain": [
              "<Figure size 432x288 with 1 Axes>"
            ]
          },
          "metadata": {
            "needs_background": "light"
          }
        }
      ],
      "source": [
        "# visualize what number of clusters has the lowest sum of squared distances. \n",
        "plt.plot(K,Sum_of_squared_distances, 'bx-')\n",
        "plt.xlabel('k')\n",
        "plt.ylabel('Sum_of_squared_distances')\n",
        "plt.title('Elbow Method for Optimal k')\n",
        "plt.show()\n"
      ]
    },
    {
      "cell_type": "code",
      "execution_count": 17,
      "metadata": {
        "id": "VmNnFr6ojt4t"
      },
      "outputs": [],
      "source": [
        "# assign the newly created labels for the testing set into the variable test_data_predictions\n",
        "test_data_predictions = kmeans.predict(X_test_svd)"
      ]
    },
    {
      "cell_type": "code",
      "source": [
        "# assign the newly created labels for the training set into the variable train_data_predictions\n",
        "train_data_predictions = kmeans.predict(X_train_svd)"
      ],
      "metadata": {
        "id": "3YkdCtu_w7lK"
      },
      "execution_count": 18,
      "outputs": []
    },
    {
      "cell_type": "code",
      "source": [
        "len(test_data_predictions)"
      ],
      "metadata": {
        "colab": {
          "base_uri": "https://localhost:8080/"
        },
        "id": "LZQkWHkcdaw6",
        "outputId": "1e6fe28b-e969-4c96-bbe0-50a966c7f3ab"
      },
      "execution_count": 21,
      "outputs": [
        {
          "output_type": "execute_result",
          "data": {
            "text/plain": [
              "198000"
            ]
          },
          "metadata": {},
          "execution_count": 21
        }
      ]
    },
    {
      "cell_type": "code",
      "execution_count": 20,
      "metadata": {
        "id": "2N1pfo4Jjw1I",
        "colab": {
          "base_uri": "https://localhost:8080/"
        },
        "outputId": "dcb01051-7c1a-44aa-da4a-e4d896b4b2e3"
      },
      "outputs": [
        {
          "output_type": "execute_result",
          "data": {
            "text/plain": [
              "(array([0, 1], dtype=int32), array([    11, 197989]))"
            ]
          },
          "metadata": {},
          "execution_count": 20
        }
      ],
      "source": [
        "# check the breakdown of the target labels for the testing set.\n",
        "# we can see that almost all of the labels were predicted to be label 1. That means that \n",
        "np.unique(test_data_predictions,return_counts = True)"
      ]
    },
    {
      "cell_type": "code",
      "execution_count": 36,
      "metadata": {
        "id": "u2PCq5jTj0EB",
        "colab": {
          "base_uri": "https://localhost:8080/"
        },
        "outputId": "e2ca3e7d-a200-410a-9aaa-13017ed31dc8"
      },
      "outputs": [
        {
          "output_type": "stream",
          "name": "stdout",
          "text": [
            "length of test data predictions:  198000\n",
            "length of y_test:  198000\n"
          ]
        }
      ],
      "source": [
        "print(\"length of test data predictions: \", len(test_data_predictions))\n",
        "print(\"length of y_test: \",len(y_test))"
      ]
    },
    {
      "cell_type": "markdown",
      "source": [
        "# Decision Tree Classifier with the new target variable.\n",
        "I wanted to see if running the decision tree model with the newly created target labels was going to improve the accuracy score.  \n"
      ],
      "metadata": {
        "id": "ie_gasd6lCIa"
      }
    },
    {
      "cell_type": "code",
      "source": [
        "# create a new target variable for the testing set out of the labels created by clustering.\n",
        "y_cluster_test = test_data_predictions.tolist()"
      ],
      "metadata": {
        "id": "E5XqmU7LklQ2"
      },
      "execution_count": 46,
      "outputs": []
    },
    {
      "cell_type": "code",
      "source": [
        "# create a new target variable for the training set out of the labels created by clustering. \n",
        "y_cluster_train = train_data_predictions.tolist()"
      ],
      "metadata": {
        "id": "MPqYsTLJxQd5"
      },
      "execution_count": 45,
      "outputs": []
    },
    {
      "cell_type": "code",
      "source": [
        "# create a new instance of the Decision Tree Classifier and fit the training set on it.\n",
        "dec_tree = DecisionTreeClassifier(random_state = 42)\n",
        "dec_tree.fit(X_train_svd, y_cluster_train)\n"
      ],
      "metadata": {
        "colab": {
          "base_uri": "https://localhost:8080/"
        },
        "id": "nn_wx9sGwdf8",
        "outputId": "97100842-3717-4d52-d779-62ec4f0bfcf6"
      },
      "execution_count": 49,
      "outputs": [
        {
          "output_type": "execute_result",
          "data": {
            "text/plain": [
              "DecisionTreeClassifier(random_state=42)"
            ]
          },
          "metadata": {},
          "execution_count": 49
        }
      ]
    },
    {
      "cell_type": "code",
      "source": [
        "# the accuracy score with the testing set.\n",
        "dec_tree.score(X_test_svd, y_cluster_test)"
      ],
      "metadata": {
        "colab": {
          "base_uri": "https://localhost:8080/"
        },
        "id": "X-pszsGvw2f0",
        "outputId": "63ac417d-0897-4aed-9f0a-50c1b6bffff4"
      },
      "execution_count": 50,
      "outputs": [
        {
          "output_type": "execute_result",
          "data": {
            "text/plain": [
              "1.0"
            ]
          },
          "metadata": {},
          "execution_count": 50
        }
      ]
    },
    {
      "cell_type": "markdown",
      "source": [
        "# Hierarchical Clustering\n",
        "I wanted to see how hierarchical clustering was going to perform so I tried running it on 600 000 comments and the kernel kept collapsing even with 25 GB of RAM that Google COlab Pro provides. So I decided to run it on a subsample of the original dataset. I created a new dataframe with 50 000 comments and ran the Hierarchical Clustering on it. I performed a new vectorization, train-test split and dimensionality reduction on this new sample of the dataset."
      ],
      "metadata": {
        "id": "7WF72HIy57HD"
      }
    },
    {
      "cell_type": "code",
      "source": [
        "# create a subsample of the original dataset.\n",
        "df_sample = df.sample(n = 50000)\n",
        "print(len(df_sample))\n",
        "# assign the predictor variable out of the column with the clean text.\n",
        "X = df_sample['low_removed']\n",
        "\n",
        "# assign the target variable\n",
        "y = df_sample['target']"
      ],
      "metadata": {
        "colab": {
          "base_uri": "https://localhost:8080/"
        },
        "id": "nLuA8oVCSw7b",
        "outputId": "117de9c9-f5f6-4ed2-cc08-2f8f9b2c736c"
      },
      "execution_count": 22,
      "outputs": [
        {
          "output_type": "stream",
          "name": "stdout",
          "text": [
            "50000\n"
          ]
        }
      ]
    },
    {
      "cell_type": "markdown",
      "source": [
        "Vectorization and train-test split."
      ],
      "metadata": {
        "id": "TiK7v7nVV3Fj"
      }
    },
    {
      "cell_type": "code",
      "source": [
        "# instantiate the vectorizer with the parameters that we need. \n",
        "# I adjusted the max_df and min_df parameters several times before and found that the current combination produces the \n",
        "# highest possible accuracy score. \n",
        "vectorizer = TfidfVectorizer(max_df = 60, min_df = 40)"
      ],
      "metadata": {
        "id": "SUTPIy1pTcWN"
      },
      "execution_count": 23,
      "outputs": []
    },
    {
      "cell_type": "code",
      "source": [
        "# fit and transform the predictor column with the vectorizer.\n",
        "X_vect = vectorizer.fit_transform(X.values.astype(str))"
      ],
      "metadata": {
        "id": "kurwyWtqTYBG"
      },
      "execution_count": 24,
      "outputs": []
    },
    {
      "cell_type": "code",
      "source": [
        "# perform the train_test split. \n",
        "X_train, X_test, y_train, y_test = train_test_split(X_vect,y,test_size=0.33, random_state=42) "
      ],
      "metadata": {
        "id": "lA9Mm0QmTVHJ"
      },
      "execution_count": 25,
      "outputs": []
    },
    {
      "cell_type": "code",
      "source": [
        "# the number of columns of the dataset after the vectorization is 342.\n",
        "X_train.shape"
      ],
      "metadata": {
        "colab": {
          "base_uri": "https://localhost:8080/"
        },
        "id": "STcQxofgUXzx",
        "outputId": "79dc4b3f-7541-4c02-e190-ab7e86556041"
      },
      "execution_count": 26,
      "outputs": [
        {
          "output_type": "execute_result",
          "data": {
            "text/plain": [
              "(33500, 342)"
            ]
          },
          "metadata": {},
          "execution_count": 26
        }
      ]
    },
    {
      "cell_type": "markdown",
      "source": [
        "Dimensionality Reduction with TruncatedSVD."
      ],
      "metadata": {
        "id": "m3sSQQZMV8uv"
      }
    },
    {
      "cell_type": "code",
      "source": [
        "# Since the new dataset has only 342 columns, I am going to tell the TruncatedSVD to reduce the dimensions\n",
        "# of the dataset to 150 features. \n",
        "# instantiate the TruncatedSVD with 150 components. \n",
        "svd = TruncatedSVD(n_components= 150, random_state=42)\n",
        "svd.fit(X_train)"
      ],
      "metadata": {
        "colab": {
          "base_uri": "https://localhost:8080/"
        },
        "id": "-aidHNHdT5i_",
        "outputId": "71853f5e-ced8-411f-bcaa-950b20a48520"
      },
      "execution_count": 27,
      "outputs": [
        {
          "output_type": "execute_result",
          "data": {
            "text/plain": [
              "TruncatedSVD(n_components=150, random_state=42)"
            ]
          },
          "metadata": {},
          "execution_count": 27
        }
      ]
    },
    {
      "cell_type": "code",
      "source": [
        "# The dimensionality reduction of the X_train produces a numpy ndarray with 150 features\n",
        "# and I am assigning it to X_train_svd_sample. \n",
        "X_train_svd_sample = svd.transform(X_train)"
      ],
      "metadata": {
        "id": "NhlrSS9iTPdp"
      },
      "execution_count": 28,
      "outputs": []
    },
    {
      "cell_type": "code",
      "source": [
        "# The features of X_test also get reduced to 150 and the new numpy ndarray gets assigned to X_test_svd_sample\n",
        "X_test_svd_sample = svd.transform(X_test)"
      ],
      "metadata": {
        "id": "tbH6K7eHTElH"
      },
      "execution_count": 29,
      "outputs": []
    },
    {
      "cell_type": "code",
      "source": [
        "# see how much of the variance in the dataset got captured after dimensionality reduction.\n",
        "sum(svd.explained_variance_ratio_)"
      ],
      "metadata": {
        "colab": {
          "base_uri": "https://localhost:8080/"
        },
        "id": "lVU77SVaVHB4",
        "outputId": "800ca184-799d-409a-bf17-4d8e6e408f40"
      },
      "execution_count": 30,
      "outputs": [
        {
          "output_type": "execute_result",
          "data": {
            "text/plain": [
              "0.4986610161460776"
            ]
          },
          "metadata": {},
          "execution_count": 30
        }
      ]
    },
    {
      "cell_type": "code",
      "source": [
        "X_train_svd_sample.shape"
      ],
      "metadata": {
        "colab": {
          "base_uri": "https://localhost:8080/"
        },
        "id": "AKZmIOawVRJk",
        "outputId": "bb3ddbbb-cf30-47d0-d3ec-e6bcbc5a0135"
      },
      "execution_count": 31,
      "outputs": [
        {
          "output_type": "execute_result",
          "data": {
            "text/plain": [
              "(33500, 150)"
            ]
          },
          "metadata": {},
          "execution_count": 31
        }
      ]
    },
    {
      "cell_type": "code",
      "source": [
        "# X_train_svd needs to be first converted to a list and then into an array again so that it is no longer a sparse matrix.\n",
        "# the reason I am doing that is because some of the models do not accept sparse matrices.\n",
        "X_train_svd_sample = X_train_svd_sample.tolist()\n",
        "print(type(X_train_svd_sample))\n",
        "X_train_svd_sample = np.asarray(X_train_svd_sample)"
      ],
      "metadata": {
        "colab": {
          "base_uri": "https://localhost:8080/"
        },
        "id": "TTgVfo17VROI",
        "outputId": "bc8a79a0-32ab-430a-cb56-32b28b727621"
      },
      "execution_count": 32,
      "outputs": [
        {
          "output_type": "stream",
          "name": "stdout",
          "text": [
            "<class 'list'>\n"
          ]
        }
      ]
    },
    {
      "cell_type": "markdown",
      "source": [
        "After the vectorization, train-test split and dimensionality reduction are done, I run the Hierarchical clustering."
      ],
      "metadata": {
        "id": "N7nJpilQVlfg"
      }
    },
    {
      "cell_type": "code",
      "source": [
        "# instantiate the clustering algorithm.\n",
        "hier_clustering = AgglomerativeClustering().fit(X_train_svd_sample)\n",
        "# fit the training set into the model, predict the clusters and assign the results to a new variable.\n",
        "predict_targets_hierarchical = hier_clustering.fit_predict(X_train_svd_sample)\n",
        "# see what is the breakdown of the predicted clusters. \n",
        "np.unique(predict_targets_hierarchical,return_counts = True)\n"
      ],
      "metadata": {
        "colab": {
          "base_uri": "https://localhost:8080/"
        },
        "id": "QAPupJno6XGx",
        "outputId": "7c130e74-71d8-4c77-fad9-e9a6a745c50c"
      },
      "execution_count": 36,
      "outputs": [
        {
          "output_type": "execute_result",
          "data": {
            "text/plain": [
              "(array([0, 1]), array([33460,    40]))"
            ]
          },
          "metadata": {},
          "execution_count": 36
        }
      ]
    },
    {
      "cell_type": "markdown",
      "source": [
        "The clustering predicted that almost all of the comments have a label 0."
      ],
      "metadata": {
        "id": "3_yw1o75BSPo"
      }
    },
    {
      "cell_type": "markdown",
      "source": [
        "# Results from Clustering\n",
        "Both clustering algorithms show that the overwhelming majority of observations are supposed to be class 0. That means that the dataset could be imbalanced. \n",
        "\n"
      ],
      "metadata": {
        "id": "lfJiiPO2Y9Yz"
      }
    },
    {
      "cell_type": "markdown",
      "source": [
        "# Evaluation\n",
        "I have several possible explanations as to why the accuracy scores of the models were so low. The first possibility is that the dataset was not labeled properly. The second possible explanation is that even after all the preprocessing steps taken, there is still some noise left in the dataset that needs to be detected and removed before running the models again. Another possible explanation is that the vectorizer that I used did not pick up the most important words properly. I am hoping that trying new vectorizers such as HashingVectorizer or CountVectorizer could help."
      ],
      "metadata": {
        "id": "oyF7gQ3tZjha"
      }
    }
  ],
  "metadata": {
    "accelerator": "GPU",
    "colab": {
      "collapsed_sections": [],
      "machine_shape": "hm",
      "name": "newfile.ipynb",
      "provenance": []
    },
    "kernelspec": {
      "display_name": "Python 3",
      "name": "python3"
    },
    "language_info": {
      "name": "python"
    }
  },
  "nbformat": 4,
  "nbformat_minor": 0
}